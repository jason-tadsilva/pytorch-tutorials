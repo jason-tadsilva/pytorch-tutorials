{
  "cells": [
    {
      "cell_type": "code",
      "execution_count": null,
      "metadata": {
        "collapsed": false
      },
      "outputs": [],
      "source": [
        "# For tips on running notebooks in Google Colab, see\n# https://pytorch.org/tutorials/beginner/colab\n%matplotlib inline"
      ]
    },
    {
      "cell_type": "markdown",
      "metadata": {},
      "source": [
        "\n# PyTorch Numeric Suite Tutorial\n\n## Introduction\n\nQuantization is good when it works, but it\u2019s difficult to know what's wrong when it doesn't satisfy the accuracy we expect. Debugging the accuracy issue of quantization is not easy and time consuming.\n\nOne important step of debugging is to measure the statistics of the float model and its corresponding quantized model to know where are they differ most. We built a suite of numeric tools called PyTorch Numeric Suite in PyTorch quantization to enable the measurement of the statistics between quantized module and float module to support quantization debugging efforts. Even for the quantized model with good accuracy, PyTorch Numeric Suite can still be used as the profiling tool to better understand the quantization error within the model and provide the guidance for further optimization.\n\nPyTorch Numeric Suite currently supports models quantized through both static quantization and dynamic quantization with unified APIs.\n\nIn this tutorial we will first use ResNet18 as an example to show how to use PyTorch Numeric Suite to measure the statistics between static quantized model and float model in eager mode. Then we will use LSTM based sequence model as an example to show the usage of PyTorch Numeric Suite for dynamic quantized model.\n\n## Numeric Suite for Static Quantization\n\n### Setup\nWe\u2019ll start by doing the necessary imports:\n"
      ]
    },
    {
      "cell_type": "code",
      "execution_count": null,
      "metadata": {
        "collapsed": false
      },
      "outputs": [],
      "source": [
        "import numpy as np\nimport torch\nimport torch.nn as nn\nimport torchvision\nfrom torchvision import models, datasets\nimport torchvision.transforms as transforms\nimport os\nimport torch.quantization\nimport torch.quantization._numeric_suite as ns\nfrom torch.quantization import (\n    default_eval_fn,\n    default_qconfig,\n    quantize,\n)"
      ]
    },
    {
      "cell_type": "markdown",
      "metadata": {},
      "source": [
        "Then we load the pretrained float ResNet18 model, and quantize it into qmodel. We cannot compare two arbitrary models, only a float model and the quantized model derived from it can be compared.\n\n"
      ]
    },
    {
      "cell_type": "code",
      "execution_count": null,
      "metadata": {
        "collapsed": false
      },
      "outputs": [],
      "source": [
        "float_model = torchvision.models.quantization.resnet18(weights=models.ResNet18_Weights.IMAGENET1K_V1, quantize=False)\nfloat_model.to('cpu')\nfloat_model.eval()\nfloat_model.fuse_model()\nfloat_model.qconfig = torch.quantization.default_qconfig\nimg_data = [(torch.rand(2, 3, 10, 10, dtype=torch.float), torch.randint(0, 1, (2,), dtype=torch.long)) for _ in range(2)]\nqmodel = quantize(float_model, default_eval_fn, [img_data], inplace=False)"
      ]
    },
    {
      "cell_type": "markdown",
      "metadata": {},
      "source": [
        "### 1. Compare the weights of float and quantized models\nThe first thing we usually want to compare are the weights of quantized model and float model.\nWe can call ``compare_weights()`` from PyTorch Numeric Suite to get a dictionary ``wt_compare_dict`` with key corresponding to module names and each entry is a dictionary with two keys 'float' and 'quantized', containing the float and quantized weights.\n``compare_weights()`` takes in floating point and quantized state dict and returns a dict, with keys corresponding to the\nfloating point weights and values being a dictionary of floating point and quantized weights\n\n"
      ]
    },
    {
      "cell_type": "code",
      "execution_count": null,
      "metadata": {
        "collapsed": false
      },
      "outputs": [],
      "source": [
        "wt_compare_dict = ns.compare_weights(float_model.state_dict(), qmodel.state_dict())\n\nprint('keys of wt_compare_dict:')\nprint(wt_compare_dict.keys())\n\nprint(\"\\nkeys of wt_compare_dict entry for conv1's weight:\")\nprint(wt_compare_dict['conv1.weight'].keys())\nprint(wt_compare_dict['conv1.weight']['float'].shape)\nprint(wt_compare_dict['conv1.weight']['quantized'].shape)"
      ]
    },
    {
      "cell_type": "markdown",
      "metadata": {},
      "source": [
        "Once get ``wt_compare_dict``, users can process this dictionary in whatever way they want. Here as an example we compute the quantization error of the weights of float and quantized models as following.\nCompute the Signal-to-Quantization-Noise Ratio (SQNR) of the quantized tensor ``y``. The SQNR reflects the\nrelationship between the maximum nominal signal strength and the quantization error introduced in the\nquantization. Higher SQNR corresponds to lower quantization error.\n\n"
      ]
    },
    {
      "cell_type": "code",
      "execution_count": null,
      "metadata": {
        "collapsed": false
      },
      "outputs": [],
      "source": [
        "def compute_error(x, y):\n    Ps = torch.norm(x)\n    Pn = torch.norm(x-y)\n    return 20*torch.log10(Ps/Pn)\n\nfor key in wt_compare_dict:\n    print(key, compute_error(wt_compare_dict[key]['float'], wt_compare_dict[key]['quantized'].dequantize()))"
      ]
    },
    {
      "cell_type": "markdown",
      "metadata": {},
      "source": [
        "As another example ``wt_compare_dict`` can also be used to plot the histogram of the weights of floating point and quantized models.\n\n"
      ]
    },
    {
      "cell_type": "code",
      "execution_count": null,
      "metadata": {
        "collapsed": false
      },
      "outputs": [],
      "source": [
        "import matplotlib.pyplot as plt\n\nf = wt_compare_dict['conv1.weight']['float'].flatten()\nplt.hist(f, bins = 100)\nplt.title(\"Floating point model weights of conv1\")\nplt.show()\n\nq = wt_compare_dict['conv1.weight']['quantized'].flatten().dequantize()\nplt.hist(q, bins = 100)\nplt.title(\"Quantized model weights of conv1\")\nplt.show()"
      ]
    },
    {
      "cell_type": "markdown",
      "metadata": {},
      "source": [
        "### 2. Compare float point and quantized models at corresponding locations\n\nThe second tool allows for comparison of weights and activations between float and quantized models at corresponding locations for the same input as shown in the figure below. Red arrows indicate the locations of the comparison.\n\n.. figure:: /_static/img/compare_output.png\n\nWe call ``compare_model_outputs()`` from PyTorch Numeric Suite to get the activations in float model and quantized model at corresponding locations for the given input data. This API returns a dict with module names being keys. Each entry is itself a dict with two keys 'float' and 'quantized' containing the activations.\n\n"
      ]
    },
    {
      "cell_type": "code",
      "execution_count": null,
      "metadata": {
        "collapsed": false
      },
      "outputs": [],
      "source": [
        "data = img_data[0][0]\n\n# Take in floating point and quantized model as well as input data, and returns a dict, with keys\n# corresponding to the quantized module names and each entry being a dictionary with two keys 'float' and\n# 'quantized', containing the activations of floating point and quantized model at matching locations.\nact_compare_dict = ns.compare_model_outputs(float_model, qmodel, data)\n\nprint('keys of act_compare_dict:')\nprint(act_compare_dict.keys())\n\nprint(\"\\nkeys of act_compare_dict entry for conv1's output:\")\nprint(act_compare_dict['conv1.stats'].keys())\nprint(act_compare_dict['conv1.stats']['float'][0].shape)\nprint(act_compare_dict['conv1.stats']['quantized'][0].shape)"
      ]
    },
    {
      "cell_type": "markdown",
      "metadata": {},
      "source": [
        "This dict can be used to compare and compute the quantization error of the activations of float and quantized models as following.\n\n"
      ]
    },
    {
      "cell_type": "code",
      "execution_count": null,
      "metadata": {
        "collapsed": false
      },
      "outputs": [],
      "source": [
        "for key in act_compare_dict:\n    print(key, compute_error(act_compare_dict[key]['float'][0], act_compare_dict[key]['quantized'][0].dequantize()))"
      ]
    },
    {
      "cell_type": "markdown",
      "metadata": {},
      "source": [
        "If we want to do the comparison for more than one input data, we can do the following.\nPrepare the model by attaching the logger to both floating point module and quantized\nmodule if they are in the ``white_list``. Default logger is ``OutputLogger``, and default white_list\nis ``DEFAULT_NUMERIC_SUITE_COMPARE_MODEL_OUTPUT_WHITE_LIST``\n\n"
      ]
    },
    {
      "cell_type": "code",
      "execution_count": null,
      "metadata": {
        "collapsed": false
      },
      "outputs": [],
      "source": [
        "ns.prepare_model_outputs(float_model, qmodel)\n\nfor data in img_data:\n    float_model(data[0])\n    qmodel(data[0])\n\n# Find the matching activation between floating point and quantized modules, and return a dict with key\n# corresponding to quantized module names and each entry being a dictionary with two keys 'float'\n# and 'quantized', containing the matching floating point and quantized activations logged by the logger\nact_compare_dict = ns.get_matching_activations(float_model, qmodel)"
      ]
    },
    {
      "cell_type": "markdown",
      "metadata": {},
      "source": [
        "The default logger used in above APIs is ``OutputLogger``, which is used to log the outputs of the modules. We can inherit from base ``Logger`` class and create our own logger to perform different functionalities. For example we can make a new ``MyOutputLogger`` class as below.\n\n"
      ]
    },
    {
      "cell_type": "code",
      "execution_count": null,
      "metadata": {
        "collapsed": false
      },
      "outputs": [],
      "source": [
        "class MyOutputLogger(ns.Logger):\n    r\"\"\"Customized logger class\n    \"\"\"\n\n    def __init__(self):\n        super(MyOutputLogger, self).__init__()\n\n    def forward(self, x):\n        # Custom functionalities\n        # ...\n        return x"
      ]
    },
    {
      "cell_type": "markdown",
      "metadata": {},
      "source": [
        "And then we can pass this logger into above APIs such as:\n\n"
      ]
    },
    {
      "cell_type": "code",
      "execution_count": null,
      "metadata": {
        "collapsed": false
      },
      "outputs": [],
      "source": [
        "data = img_data[0][0]\nact_compare_dict = ns.compare_model_outputs(float_model, qmodel, data, logger_cls=MyOutputLogger)"
      ]
    },
    {
      "cell_type": "markdown",
      "metadata": {},
      "source": [
        "or:\n\n"
      ]
    },
    {
      "cell_type": "code",
      "execution_count": null,
      "metadata": {
        "collapsed": false
      },
      "outputs": [],
      "source": [
        "ns.prepare_model_outputs(float_model, qmodel, MyOutputLogger)\nfor data in img_data:\n    float_model(data[0])\n    qmodel(data[0])\nact_compare_dict = ns.get_matching_activations(float_model, qmodel)"
      ]
    },
    {
      "cell_type": "markdown",
      "metadata": {},
      "source": [
        "### 3. Compare a module in a quantized model with its float point equivalent, with the same input data\n\nThe third tool allows for comparing a quantized module in a model with its float point counterpart, feeding both of them the same input and comparing their outputs as shown below.\n\n.. figure:: /_static/img/compare_stub.png\n\nIn practice we call prepare_model_with_stubs() to swap the quantized module that we want to compare with the Shadow module, which is illustrated as below:\n\n.. figure:: /_static/img/shadow.png\n\nThe Shadow module takes quantized module, float module and logger as input, and creates a forward path inside to make the float module to shadow quantized module sharing the same input tensor.\n\nThe logger can be customizable, default logger is ``ShadowLogger`` and it will save the outputs of the quantized module and float module that can be used to compute the module level quantization error.\n\nNotice before each call of ``compare_model_outputs()`` and ``compare_model_stub()`` we need to have clean float and quantized model. This is because ``compare_model_outputs()`` and ``compare_model_stub()`` modify float and quantized model inplace, and it will cause unexpected results if call one right after another.\n\n"
      ]
    },
    {
      "cell_type": "code",
      "execution_count": null,
      "metadata": {
        "collapsed": false
      },
      "outputs": [],
      "source": [
        "float_model = torchvision.models.quantization.resnet18(weights=models.ResNet18_Weights.IMAGENET1K_V1, quantize=False)\nfloat_model.to('cpu')\nfloat_model.eval()\nfloat_model.fuse_model()\nfloat_model.qconfig = torch.quantization.default_qconfig\nimg_data = [(torch.rand(2, 3, 10, 10, dtype=torch.float), torch.randint(0, 1, (2,), dtype=torch.long)) for _ in range(2)]\nqmodel = quantize(float_model, default_eval_fn, [img_data], inplace=False)"
      ]
    },
    {
      "cell_type": "markdown",
      "metadata": {},
      "source": [
        "In the following example we call ``compare_model_stub()`` from PyTorch Numeric Suite to compare ``QuantizableBasicBlock`` module with its float point equivalent. This API returns a dict with key corresponding to module names and each entry being a dictionary with two keys 'float' and 'quantized', containing the output tensors of quantized and its matching float shadow module.\n\n"
      ]
    },
    {
      "cell_type": "code",
      "execution_count": null,
      "metadata": {
        "collapsed": false
      },
      "outputs": [],
      "source": [
        "data = img_data[0][0]\nmodule_swap_list = [torchvision.models.quantization.resnet.QuantizableBasicBlock]\n\n# Takes in floating point and quantized model as well as input data, and returns a dict with key\n# corresponding to module names and each entry being a dictionary with two keys 'float' and\n# 'quantized', containing the output tensors of quantized module and its matching floating point shadow module.\nob_dict = ns.compare_model_stub(float_model, qmodel, module_swap_list, data)\n\nprint('keys of ob_dict:')\nprint(ob_dict.keys())\n\nprint(\"\\nkeys of ob_dict entry for layer1.0's output:\")\nprint(ob_dict['layer1.0.stats'].keys())\nprint(ob_dict['layer1.0.stats']['float'][0].shape)\nprint(ob_dict['layer1.0.stats']['quantized'][0].shape)"
      ]
    },
    {
      "cell_type": "markdown",
      "metadata": {},
      "source": [
        "This dict can be then used to compare and compute the module level quantization error.\n\n"
      ]
    },
    {
      "cell_type": "code",
      "execution_count": null,
      "metadata": {
        "collapsed": false
      },
      "outputs": [],
      "source": [
        "for key in ob_dict:\n    print(key, compute_error(ob_dict[key]['float'][0], ob_dict[key]['quantized'][0].dequantize()))"
      ]
    },
    {
      "cell_type": "markdown",
      "metadata": {},
      "source": [
        "If we want to do the comparison for more than one input data, we can do the following.\n\n"
      ]
    },
    {
      "cell_type": "code",
      "execution_count": null,
      "metadata": {
        "collapsed": false
      },
      "outputs": [],
      "source": [
        "ns.prepare_model_with_stubs(float_model, qmodel, module_swap_list, ns.ShadowLogger)\nfor data in img_data:\n    qmodel(data[0])\nob_dict = ns.get_logger_dict(qmodel)"
      ]
    },
    {
      "cell_type": "markdown",
      "metadata": {},
      "source": [
        "The default logger used in above APIs is ``ShadowLogger``, which is used to log the outputs of the quantized module and its matching float shadow module. We can inherit from base ``Logger`` class and create our own logger to perform different functionalities. For example we can make a new ``MyShadowLogger`` class as below.\n\n"
      ]
    },
    {
      "cell_type": "code",
      "execution_count": null,
      "metadata": {
        "collapsed": false
      },
      "outputs": [],
      "source": [
        "class MyShadowLogger(ns.Logger):\n    r\"\"\"Customized logger class\n    \"\"\"\n\n    def __init__(self):\n        super(MyShadowLogger, self).__init__()\n\n    def forward(self, x, y):\n        # Custom functionalities\n        # ...\n        return x"
      ]
    },
    {
      "cell_type": "markdown",
      "metadata": {},
      "source": [
        "And then we can pass this logger into above APIs such as:\n\n"
      ]
    },
    {
      "cell_type": "code",
      "execution_count": null,
      "metadata": {
        "collapsed": false
      },
      "outputs": [],
      "source": [
        "data = img_data[0][0]\nob_dict = ns.compare_model_stub(float_model, qmodel, module_swap_list, data, logger_cls=MyShadowLogger)"
      ]
    },
    {
      "cell_type": "markdown",
      "metadata": {},
      "source": [
        "or:\n\n"
      ]
    },
    {
      "cell_type": "code",
      "execution_count": null,
      "metadata": {
        "collapsed": false
      },
      "outputs": [],
      "source": [
        "ns.prepare_model_with_stubs(float_model, qmodel, module_swap_list, MyShadowLogger)\nfor data in img_data:\n    qmodel(data[0])\nob_dict = ns.get_logger_dict(qmodel)"
      ]
    },
    {
      "cell_type": "markdown",
      "metadata": {},
      "source": [
        "## Numeric Suite for Dynamic Quantization\n\nNumeric Suite APIs are designed in such as way that they work for both dynamic quantized model and static quantized model. We will use a model with both LSTM and Linear modules to demonstrate the usage of Numeric Suite on dynamic quantized model. This model is the same one used in the tutorial of dynamic quantization on LSTM word language model [1].\n\n\n"
      ]
    },
    {
      "cell_type": "markdown",
      "metadata": {},
      "source": [
        "### Setup\nFirst we define the model as below. Notice that within this model only ``nn.LSTM`` and ``nn.Linear`` modules will be quantized dynamically and ``nn.Embedding`` will remain as floating point module after quantization.\n\n"
      ]
    },
    {
      "cell_type": "code",
      "execution_count": null,
      "metadata": {
        "collapsed": false
      },
      "outputs": [],
      "source": [
        "class LSTMModel(nn.Module):\n    \"\"\"Container module with an encoder, a recurrent module, and a decoder.\"\"\"\n\n    def __init__(self, ntoken, ninp, nhid, nlayers, dropout=0.5):\n        super(LSTMModel, self).__init__()\n        self.encoder = nn.Embedding(ntoken, ninp)\n        self.rnn = nn.LSTM(ninp, nhid, nlayers, dropout=dropout)\n        self.decoder = nn.Linear(nhid, ntoken)\n\n        self.init_weights()\n\n        self.nhid = nhid\n        self.nlayers = nlayers\n\n    def init_weights(self):\n        initrange = 0.1\n        self.encoder.weight.data.uniform_(-initrange, initrange)\n        self.decoder.bias.data.zero_()\n        self.decoder.weight.data.uniform_(-initrange, initrange)\n\n    def forward(self, input, hidden):\n        emb = self.encoder(input)\n        output, hidden = self.rnn(emb, hidden)\n        decoded = self.decoder(output)\n        return decoded, hidden\n\n    def init_hidden(self, bsz):\n        weight = next(self.parameters())\n        return (weight.new_zeros(self.nlayers, bsz, self.nhid),\n                weight.new_zeros(self.nlayers, bsz, self.nhid))"
      ]
    },
    {
      "cell_type": "markdown",
      "metadata": {},
      "source": [
        "Then we create the ``float_model`` and quantize it into qmodel.\n\n"
      ]
    },
    {
      "cell_type": "code",
      "execution_count": null,
      "metadata": {
        "collapsed": false
      },
      "outputs": [],
      "source": [
        "ntokens = 10\n\nfloat_model = LSTMModel(\n    ntoken = ntokens,\n    ninp = 512,\n    nhid = 256,\n    nlayers = 5,\n)\n\nfloat_model.eval()\n\nqmodel = torch.quantization.quantize_dynamic(\n    float_model, {nn.LSTM, nn.Linear}, dtype=torch.qint8\n)"
      ]
    },
    {
      "cell_type": "markdown",
      "metadata": {},
      "source": [
        "### 1. Compare the weights of float and quantized models\n\nWe first call ``compare_weights()`` from PyTorch Numeric Suite to get a dictionary ``wt_compare_dict`` with key corresponding to module names and each entry is a dictionary with two keys 'float' and 'quantized', containing the float and quantized weights.\n\n"
      ]
    },
    {
      "cell_type": "code",
      "execution_count": null,
      "metadata": {
        "collapsed": false
      },
      "outputs": [],
      "source": [
        "wt_compare_dict = ns.compare_weights(float_model.state_dict(), qmodel.state_dict())"
      ]
    },
    {
      "cell_type": "markdown",
      "metadata": {},
      "source": [
        "Once we get ``wt_compare_dict``, it can be used to compare and compute the quantization error of the weights of float and quantized models as following.\n\n"
      ]
    },
    {
      "cell_type": "code",
      "execution_count": null,
      "metadata": {
        "collapsed": false
      },
      "outputs": [],
      "source": [
        "for key in wt_compare_dict:\n    if wt_compare_dict[key]['quantized'].is_quantized:\n        print(key, compute_error(wt_compare_dict[key]['float'], wt_compare_dict[key]['quantized'].dequantize()))\n    else:\n        print(key, compute_error(wt_compare_dict[key]['float'], wt_compare_dict[key]['quantized']))"
      ]
    },
    {
      "cell_type": "markdown",
      "metadata": {},
      "source": [
        "The Inf value in ``encoder.weight`` entry above is because encoder module is not quantized and the weights are the same in both floating point and quantized models.\n\n### 2. Compare float point and quantized models at corresponding locations\n\nThen we call ``compare_model_outputs()`` from PyTorch Numeric Suite to get the activations in float model and quantized model at corresponding locations for the given input data. This API returns a dict with module names being keys. Each entry is itself a dict with two keys 'float' and 'quantized' containing the activations. Notice that this sequence model has two inputs, and we can pass both inputs into ``compare_model_outputs()`` and ``compare_model_stub()``.\n\n"
      ]
    },
    {
      "cell_type": "code",
      "execution_count": null,
      "metadata": {
        "collapsed": false
      },
      "outputs": [],
      "source": [
        "input_ = torch.randint(ntokens, (1, 1), dtype=torch.long)\nhidden = float_model.init_hidden(1)\n\nact_compare_dict = ns.compare_model_outputs(float_model, qmodel, input_, hidden)\nprint(act_compare_dict.keys())"
      ]
    },
    {
      "cell_type": "markdown",
      "metadata": {},
      "source": [
        "This dict can be used to compare and compute the quantization error of the activations of float and quantized models as following. The LSTM module in this model has two outputs, in this example we compute the error of the first output.\n\n"
      ]
    },
    {
      "cell_type": "code",
      "execution_count": null,
      "metadata": {
        "collapsed": false
      },
      "outputs": [],
      "source": [
        "for key in act_compare_dict:\n    print(key, compute_error(act_compare_dict[key]['float'][0][0], act_compare_dict[key]['quantized'][0][0]))"
      ]
    },
    {
      "cell_type": "markdown",
      "metadata": {},
      "source": [
        "### 3. Compare a module in a quantized model with its float point equivalent, with the same input data\n\nNext we call ``compare_model_stub()`` from PyTorch Numeric Suite to compare LSTM and Linear module with its float point equivalent. This API returns a dict with key corresponding to module names and each entry being a dictionary with two keys 'float' and 'quantized', containing the output tensors of quantized and its matching float shadow module.\n\nWe reset the model first.\n\n"
      ]
    },
    {
      "cell_type": "code",
      "execution_count": null,
      "metadata": {
        "collapsed": false
      },
      "outputs": [],
      "source": [
        "float_model = LSTMModel(\n    ntoken = ntokens,\n    ninp = 512,\n    nhid = 256,\n    nlayers = 5,\n)\nfloat_model.eval()\n\nqmodel = torch.quantization.quantize_dynamic(\n    float_model, {nn.LSTM, nn.Linear}, dtype=torch.qint8\n)"
      ]
    },
    {
      "cell_type": "markdown",
      "metadata": {},
      "source": [
        "Next we call ``compare_model_stub()`` from PyTorch Numeric Suite to compare LSTM and Linear module with its float point equivalent. This API returns a dict with key corresponding to module names and each entry being a dictionary with two keys 'float' and 'quantized', containing the output tensors of quantized and its matching float shadow module.\n\n"
      ]
    },
    {
      "cell_type": "code",
      "execution_count": null,
      "metadata": {
        "collapsed": false
      },
      "outputs": [],
      "source": [
        "module_swap_list = [nn.Linear, nn.LSTM]\nob_dict = ns.compare_model_stub(float_model, qmodel, module_swap_list, input_, hidden)\nprint(ob_dict.keys())"
      ]
    },
    {
      "cell_type": "markdown",
      "metadata": {},
      "source": [
        "This dict can be then used to compare and compute the module level quantization error.\n\n"
      ]
    },
    {
      "cell_type": "code",
      "execution_count": null,
      "metadata": {
        "collapsed": false
      },
      "outputs": [],
      "source": [
        "for key in ob_dict:\n    print(key, compute_error(ob_dict[key]['float'][0], ob_dict[key]['quantized'][0]))"
      ]
    },
    {
      "cell_type": "markdown",
      "metadata": {},
      "source": [
        "SQNR of 40 dB is high and this is a situation where we have very good numerical alignment between the floating point and quantized model.\n\n## Conclusion\nIn this tutorial, we demonstrated how to use PyTorch Numeric Suite to measure and compare the statistics between quantized model and float model in eager mode with unified APIs for both static quantization and dynamic quantization.\n\nThanks for reading! As always, we welcome any feedback, so please create an issue [here](https://github.com/pytorch/pytorch/issues) if you have any.\n\n## References\n[1] [DYNAMIC QUANTIZATION ON AN LSTM WORD LANGUAGE MODEL](https://pytorch.org/tutorials/advanced/dynamic_quantization_tutorial.html).\n\n"
      ]
    }
  ],
  "metadata": {
    "kernelspec": {
      "display_name": "Python 3",
      "language": "python",
      "name": "python3"
    },
    "language_info": {
      "codemirror_mode": {
        "name": "ipython",
        "version": 3
      },
      "file_extension": ".py",
      "mimetype": "text/x-python",
      "name": "python",
      "nbconvert_exporter": "python",
      "pygments_lexer": "ipython3",
      "version": "3.10.14"
    }
  },
  "nbformat": 4,
  "nbformat_minor": 0
}