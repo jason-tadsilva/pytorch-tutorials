{
  "cells": [
    {
      "cell_type": "code",
      "execution_count": null,
      "metadata": {
        "collapsed": false
      },
      "outputs": [],
      "source": [
        "# For tips on running notebooks in Google Colab, see\n# https://pytorch.org/tutorials/beginner/colab\n%matplotlib inline"
      ]
    },
    {
      "cell_type": "markdown",
      "metadata": {},
      "source": [
        "\n# How to save memory by fusing the optimizer step into the backward pass\n\nHello there! This tutorial aims to showcase one way of reducing the\nmemory footprint of a training loop by reducing the memory taken by\nthe *gradients*. Say you have a model and you're interested in ways to\noptimize memory to avoid ``Out of Memory`` (OOM) errors or simply to ooze\nmore out of your GPU. Well, you _might_ be in luck (if gradients take up\na portion of your memory and you do not need to do gradient accumulation).\nWe will explore the following:\n\n1. What takes up memory during your training or finetuning loop,\n2. How to capture and visualize memory snapshots to determine the bottleneck,\n3. The new ``Tensor.register_post_accumulate_grad_hook(hook)`` API, and finally,\n4. How everything fits together in 10 lines to achieve memory savings.\n\nTo run this tutorial, you will need:\n\n*  PyTorch 2.1.0 or newer with ``torchvision``\n*  1 CUDA GPU if you'd like to run the memory visualizations locally.\n   Otherwise, this technique would benefit similarly on any device.\n\nLet us start by importing the required modules and models. We will use a\nvision transformer model from torchvision, but feel free to substitute\nwith your own model. We will also use ``torch.optim.Adam`` as our optimizer,\nbut, again, feel free to substitute with your own optimizer.\n"
      ]
    },
    {
      "cell_type": "code",
      "execution_count": null,
      "metadata": {
        "collapsed": false
      },
      "outputs": [],
      "source": [
        "import torch\nfrom torchvision import models\nfrom pickle import dump\n\nmodel = models.vit_l_16(weights='DEFAULT').cuda()\noptimizer = torch.optim.Adam(model.parameters())"
      ]
    },
    {
      "cell_type": "markdown",
      "metadata": {},
      "source": [
        "Now let's define our typical training loop. You should use real images when\ntraining, but for the purposes of this tutorial, we are passing in fake\ninputs and not worrying about loading any actual data.\n\n"
      ]
    },
    {
      "cell_type": "code",
      "execution_count": null,
      "metadata": {
        "collapsed": false
      },
      "outputs": [],
      "source": [
        "IMAGE_SIZE = 224\n\ndef train(model, optimizer):\n  # create our fake image input: tensor shape is batch_size, channels, height, width\n  fake_image = torch.rand(1, 3, IMAGE_SIZE, IMAGE_SIZE).cuda()\n\n  # call our forward and backward\n  loss = model.forward(fake_image)\n  loss.sum().backward()\n\n  # optimizer update\n  optimizer.step()\n  optimizer.zero_grad()"
      ]
    },
    {
      "cell_type": "markdown",
      "metadata": {},
      "source": [
        "## Memory usage during training\nWe are about to look at some memory snapshots, so we should be prepared to\nanalyze them properly. Typically, training memory consists of:\n\n * Model parameters (size P)\n * Activations that are saved for the backward pass (size A)\n * Gradients, which are the same size as the model parameters, so size G = P.\n * Optimizer state, which is proportional to the size of the parameters. In\n   this case, the state for Adam requires 2x the model parameters, so size O = 2P.\n * Intermediate tensors, which are allocated throughout the compute. We will\n   not worry about them for now as they are usually small and ephemeral.\n\n## Capturing and visualizing memory snapshots\nLet's get us a memory snapshot! As your code runs, consider what you may expect\nthe CUDA memory timeline to look like.\n\n"
      ]
    },
    {
      "cell_type": "code",
      "execution_count": null,
      "metadata": {
        "collapsed": false
      },
      "outputs": [],
      "source": [
        "# tell CUDA to start recording memory allocations\ntorch.cuda.memory._record_memory_history(enabled='all')\n\n# train 3 steps\nfor _ in range(3):\n  train(model, optimizer)\n\n# save a snapshot of the memory allocations\ns = torch.cuda.memory._snapshot()\nwith open(f\"snapshot.pickle\", \"wb\") as f:\n    dump(s, f)\n\n# tell CUDA to stop recording memory allocations now\ntorch.cuda.memory._record_memory_history(enabled=None)"
      ]
    },
    {
      "cell_type": "markdown",
      "metadata": {},
      "source": [
        "Now open up the snapshot in the CUDA Memory Visualizer at\nhttps://pytorch.org/memory_viz by dragging and dropping the\n``snapshot.pickle`` file. Does the memory timeline match your expectations?\n\n.. figure:: /_static/img/optim_step_in_bwd/snapshot.jpg\n   :alt: snapshot.png loaded into CUDA Memory Visualizer\n\nThe model parameters have already been loaded in memory before the training\nstep, so we see a chunk of memory devoted to the weights right off the bat.\nAs we start our forward pass, memory is allocated gradually for the activations,\nor the tensors we are saving to be able to compute gradients in the backward pass.\nOnce we start the backward pass, the activations are gradually freed while memory\nof the gradients starts building up.\n\nLastly, as the optimizer kicks in, its state will be lazily initialized, so we \nshould see the optimizer state memory gradually increase during the optimizer\nstep of the first training loop only. In future loops, the optimizer memory\nwill remain and be updated in-place. The memory for the gradients is then\nfreed accordingly at the end of every training loop when ``zero_grad`` is called.\n\nWhere is the memory bottleneck in this training loop? Or, in other words,\nwhere is the peak memory?\n\nThe peak memory usage is during the optimizer step! Note the memory then\nconsists of ~1.2GB of parameters, ~1.2GB of gradients, and ~2.4GB=2*1.2GB of\nthe optimizer state as expected. The last ~1.2GB comes from Adam optimizer\nrequiring memory for intermediates, totaling to ~6GB of peak memory.\nTechnically, you can remove the need for the last 1.2GB for optimizer\nintermediates if you set ``Adam(model.parameters(), foreach=False)`` which\nwould trade off runtime for memory. If switching off the ``foreach`` runtime\noptimization is sufficient in memory savings for you, nice, but please\nread on if you're curious how this tutorial can help you do better!\nWith the technique we will soon introduce, we will reduce peak memory by\nremoving the need for the ~1.2GB of **gradients memory** as well as **optimizer\nintermediates memory**. Now, what would you expect the new peak memory to be?\nThe answer will be revealed in the `next` snapshot.\n\n## DISCLAIMER: This technique is **not** for all\nBefore we get too excited, we have to consider whether this technique is applicable\nfor `your` use case. This is NOT a silver bullet! The technique of fusing the \noptimizer step into the backward only targets reducing *gradient* memory (and as a side effect also optimizer intermediates\nmemory). Thus, the more sizable the memory taken up by the gradients, the more\ntantamount the memory reduction. In our example above, the gradients eat up 20% \nof the memory pie, which is quite sizable!\n\nThis may not be the case for you, for example, if your weights are already tiny,\n(say, due to applying LoRa,) then the gradients do not take much space in your\ntraining loop and the wins are way less exciting. In that case, you should\nfirst try other techniques like activations checkpointing, distributed\ntraining, quantization, or reducing the batch size. Then, when the gradients\nare part of the bottleneck again, come back to this tutorial!\n\nStill here? Cool, let's introduce our new ``register_post_accumulate_grad_hook(hook)``\nAPI on Tensor.\n\n## ``Tensor.register_post_accumulate_grad_hook(hook)`` API and our technique\nOur technique relies on not having to save the gradients during ``backward()``. Instead,\nonce a gradient has been accumulated, we will immediately apply the optimizer to\nthe corresponding parameter and drop that gradient entirely! This removes the need\nfor holding onto a big buffer of gradients until the optimizer step.\n\nSo how can we unlock the behavior of applying the optimizer more eagerly? In our 2.1\nrelease, we've added a new API :func:`torch.Tensor.register_post_accumulate_grad_hook`\nthat would allow us to add a hook onto a Tensor once its ``.grad`` field has been\naccumulated. We will encapsulate the optimizer step into this hook. How?\n\n## How everything fits together in 10 lines\nRemember our model and optimizer setup from the beginning? I'll leave them commented\nout below so we don't spend resources rerunning the code.\n\n```python\nmodel = models.vit_l_16(weights='DEFAULT').cuda()\noptimizer = torch.optim.Adam(model.parameters())\n```\n"
      ]
    },
    {
      "cell_type": "code",
      "execution_count": null,
      "metadata": {
        "collapsed": false
      },
      "outputs": [],
      "source": [
        "# Instead of having just *one* optimizer, we will have a ``dict`` of optimizers\n# for every parameter so we could reference them in our hook.\noptimizer_dict = {p: torch.optim.Adam([p], foreach=False) for p in model.parameters()}\n\n# Define our hook, which will call the optimizer ``step()`` and ``zero_grad()``\ndef optimizer_hook(parameter) -> None:\n  optimizer_dict[parameter].step()\n  optimizer_dict[parameter].zero_grad()\n\n# Register the hook onto every parameter\nfor p in model.parameters():\n   p.register_post_accumulate_grad_hook(optimizer_hook)\n\n# Now remember our previous ``train()`` function? Since the optimizer has been\n# fused into the backward, we can remove the optimizer step and zero_grad calls.\ndef train(model):\n  # create our fake image input: tensor shape is batch_size, channels, height, width\n  fake_image = torch.rand(1, 3, IMAGE_SIZE, IMAGE_SIZE).cuda()\n\n  # call our forward and backward\n  loss = model.forward(fake_image)\n  loss.sum().backward()\n\n  # optimizer update --> no longer needed!\n  # optimizer.step()\n  # optimizer.zero_grad()"
      ]
    },
    {
      "cell_type": "markdown",
      "metadata": {},
      "source": [
        "That took about 10 lines of changes in our sample model, which is neat.\nHowever, for real models, it could be a fairly intrusive change to switch\nout the optimizer for an optimizer dictionary, especially for those who use\n``LRScheduler``s or manipulate optimizer configuration throughout the\ntraining epochs. Working out this API with those changes will be more\ninvolved and will likely require moving more configuration into global\nstate but should not be impossible. That said, a next step for PyTorch\nis to make this API easier to adopt with LRSchedulers and other features\nyou are already used to.\n\nBut let me get back to convincing you that this technique is worth it.\nWe will consult our friend, the memory snapshot.\n\n"
      ]
    },
    {
      "cell_type": "code",
      "execution_count": null,
      "metadata": {
        "collapsed": false
      },
      "outputs": [],
      "source": [
        "# delete optimizer memory from before to get a clean slate for the next\n# memory snapshot\ndel optimizer\n\n# tell CUDA to start recording memory allocations\ntorch.cuda.memory._record_memory_history(enabled='all')\n\n# train 3 steps. note that we no longer pass the optimizer into train()\nfor _ in range(3):\n  train(model)\n\n# save a snapshot of the memory allocations\ns = torch.cuda.memory._snapshot()\nwith open(f\"snapshot-opt-in-bwd.pickle\", \"wb\") as f:\n    dump(s, f)\n\n# tell CUDA to stop recording memory allocations now\ntorch.cuda.memory._record_memory_history(enabled=None)"
      ]
    },
    {
      "cell_type": "markdown",
      "metadata": {},
      "source": [
        "Yes, take some time to drag your snapshot into the CUDA Memory Visualizer.\n\n.. figure:: /_static/img/optim_step_in_bwd/snapshot_opt_in_bwd.jpg\n   :alt: snapshot.png loaded into CUDA Memory Visualizer\n\nSeveral major observations:\n 1. There is no more optimizer step! Right...we fused that into the backward.\n 2. Likewise, the backward drags longer and there are more random allocations\n    for intermediates. This is expected, as the optimizer step requires \n    intermediates.\n 3. Most importantly! The peak memory is lower! It is now ~4GB (which I\n    hope maps closely to your earlier expectation). \n\nNote that there is no longer any big chunk of memory allocated for the gradients\ncompared to before, accounting for ~1.2GB of memory savings. Instead, we've freed\neach gradient very quickly after they've been computed by moving the optimizer \nstep as far ahead as we can. Woohoo! By the way, the other ~1.2GB of memory savings\ncomes from breaking apart the optimizer into per-parameter optimizers, so the\nintermediates have proportionally shrunk. This detail is `less important` than\nthe gradient memory savings, as you can get optimizer intermediates savings\nfrom just turning ``foreach=False`` without this technique.\n\nYou may be correctly wondering: if we saved 2.4GB of memory, why is the peak memory\nNOT 6GB - 2.4GB = 3.6GB? Well, the peak has moved! The peak is now near the start\nof the backward step, when we still have activations in memory, where before, the peak\nwas during the optimizer step when the activations had been freed. The ~0.4GB difference\naccounting for ~4.0GB - ~3.6GB is thus due to the activations memory. One can then\nimagine that this technique can be coupled with activations checkpointing for more\nmemory wins.\n\n## Conclusion\nIn this tutorial, we learned about the memory saving technique of\nfusing the optimizer into the backward step through the new\n``Tensor.register_post_accumulate_grad_hook()`` API and *when* to apply this\ntechnique (when gradients memory is significant). Along the way, we also learned\nabout memory snapshots, which are generally useful in memory optimization.\n\n"
      ]
    }
  ],
  "metadata": {
    "kernelspec": {
      "display_name": "Python 3",
      "language": "python",
      "name": "python3"
    },
    "language_info": {
      "codemirror_mode": {
        "name": "ipython",
        "version": 3
      },
      "file_extension": ".py",
      "mimetype": "text/x-python",
      "name": "python",
      "nbconvert_exporter": "python",
      "pygments_lexer": "ipython3",
      "version": "3.10.14"
    }
  },
  "nbformat": 4,
  "nbformat_minor": 0
}