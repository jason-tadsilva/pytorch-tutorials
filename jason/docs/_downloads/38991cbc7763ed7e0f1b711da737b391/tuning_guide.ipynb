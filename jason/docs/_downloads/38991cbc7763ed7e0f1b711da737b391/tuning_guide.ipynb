{
  "cells": [
    {
      "cell_type": "code",
      "execution_count": null,
      "metadata": {
        "collapsed": false
      },
      "outputs": [],
      "source": [
        "# For tips on running notebooks in Google Colab, see\n# https://pytorch.org/tutorials/beginner/colab\n%matplotlib inline"
      ]
    },
    {
      "cell_type": "markdown",
      "metadata": {},
      "source": [
        "\n# Performance Tuning Guide\n**Author**: [Szymon Migacz](https://github.com/szmigacz)\n\nPerformance Tuning Guide is a set of optimizations and best practices which can\naccelerate training and inference of deep learning models in PyTorch. Presented\ntechniques often can be implemented by changing only a few lines of code and can\nbe applied to a wide range of deep learning models across all domains.\n\n## General optimizations\n"
      ]
    },
    {
      "cell_type": "markdown",
      "metadata": {},
      "source": [
        "### Enable asynchronous data loading and augmentation\n[torch.utils.data.DataLoader](https://pytorch.org/docs/stable/data.html#torch.utils.data.DataLoader)\nsupports asynchronous data loading and data augmentation in separate worker\nsubprocesses. The default setting for ``DataLoader`` is ``num_workers=0``,\nwhich means that the data loading is synchronous and done in the main process.\nAs a result the main training process has to wait for the data to be available\nto continue the execution.\n\nSetting ``num_workers > 0`` enables asynchronous data loading and overlap\nbetween the training and data loading. ``num_workers`` should be tuned\ndepending on the workload, CPU, GPU, and location of training data.\n\n``DataLoader`` accepts ``pin_memory`` argument, which defaults to ``False``.\nWhen using a GPU it's better to set ``pin_memory=True``, this instructs\n``DataLoader`` to use pinned memory and enables faster and asynchronous memory\ncopy from the host to the GPU.\n\n"
      ]
    },
    {
      "cell_type": "markdown",
      "metadata": {},
      "source": [
        "### Disable gradient calculation for validation or inference\nPyTorch saves intermediate buffers from all operations which involve tensors\nthat require gradients. Typically gradients aren't needed for validation or\ninference.\n[torch.no_grad()](https://pytorch.org/docs/stable/generated/torch.no_grad.html#torch.no_grad)\ncontext manager can be applied to disable gradient calculation within a\nspecified block of code, this accelerates execution and reduces the amount of\nrequired memory.\n[torch.no_grad()](https://pytorch.org/docs/stable/generated/torch.no_grad.html#torch.no_grad)\ncan also be used as a function decorator.\n\n"
      ]
    },
    {
      "cell_type": "markdown",
      "metadata": {},
      "source": [
        "### Disable bias for convolutions directly followed by a batch norm\n[torch.nn.Conv2d()](https://pytorch.org/docs/stable/generated/torch.nn.Conv2d.html#torch.nn.Conv2d)\nhas ``bias`` parameter which defaults to ``True`` (the same is true for\n[Conv1d](https://pytorch.org/docs/stable/generated/torch.nn.Conv1d.html#torch.nn.Conv1d)\nand\n[Conv3d](https://pytorch.org/docs/stable/generated/torch.nn.Conv3d.html#torch.nn.Conv3d)\n).\n\nIf a ``nn.Conv2d`` layer is directly followed by a ``nn.BatchNorm2d`` layer,\nthen the bias in the convolution is not needed, instead use\n``nn.Conv2d(..., bias=False, ....)``. Bias is not needed because in the first\nstep ``BatchNorm`` subtracts the mean, which effectively cancels out the\neffect of bias.\n\nThis is also applicable to 1d and 3d convolutions as long as ``BatchNorm`` (or\nother normalization layer) normalizes on the same dimension as convolution's\nbias.\n\nModels available from [torchvision](https://github.com/pytorch/vision)\nalready implement this optimization.\n\n"
      ]
    },
    {
      "cell_type": "markdown",
      "metadata": {},
      "source": [
        "### Use parameter.grad = None instead of model.zero_grad() or optimizer.zero_grad()\nInstead of calling:\n\n"
      ]
    },
    {
      "cell_type": "code",
      "execution_count": null,
      "metadata": {
        "collapsed": false
      },
      "outputs": [],
      "source": [
        "model.zero_grad()\n# or\noptimizer.zero_grad()"
      ]
    },
    {
      "cell_type": "markdown",
      "metadata": {},
      "source": [
        "to zero out gradients, use the following method instead:\n\n"
      ]
    },
    {
      "cell_type": "code",
      "execution_count": null,
      "metadata": {
        "collapsed": false
      },
      "outputs": [],
      "source": [
        "for param in model.parameters():\n    param.grad = None"
      ]
    },
    {
      "cell_type": "markdown",
      "metadata": {},
      "source": [
        "The second code snippet does not zero the memory of each individual parameter,\nalso the subsequent backward pass uses assignment instead of addition to store\ngradients, this reduces the number of memory operations.\n\nSetting gradient to ``None`` has a slightly different numerical behavior than\nsetting it to zero, for more details refer to the\n[documentation](https://pytorch.org/docs/master/optim.html#torch.optim.Optimizer.zero_grad).\n\nAlternatively, starting from PyTorch 1.7, call ``model`` or\n``optimizer.zero_grad(set_to_none=True)``.\n\n"
      ]
    },
    {
      "cell_type": "markdown",
      "metadata": {},
      "source": [
        "### Fuse pointwise operations\nPointwise operations (elementwise addition, multiplication, math functions -\n``sin()``, ``cos()``, ``sigmoid()`` etc.) can be fused into a single kernel\nto amortize memory access time and kernel launch time.\n\n[PyTorch JIT](https://pytorch.org/docs/stable/jit.html) can fuse kernels\nautomatically, although there could be additional fusion opportunities not yet\nimplemented in the compiler, and not all device types are supported equally.\n\nPointwise operations are memory-bound, for each operation PyTorch launches a\nseparate kernel. Each kernel loads data from the memory, performs computation\n(this step is usually inexpensive) and stores results back into the memory.\n\nFused operator launches only one kernel for multiple fused pointwise ops and\nloads/stores data only once to the memory. This makes JIT very useful for\nactivation functions, optimizers, custom RNN cells etc.\n\nIn the simplest case fusion can be enabled by applying\n[torch.jit.script](https://pytorch.org/docs/stable/generated/torch.jit.script.html#torch.jit.script)\ndecorator to the function definition, for example:\n\n"
      ]
    },
    {
      "cell_type": "code",
      "execution_count": null,
      "metadata": {
        "collapsed": false
      },
      "outputs": [],
      "source": [
        "@torch.jit.script\ndef fused_gelu(x):\n    return x * 0.5 * (1.0 + torch.erf(x / 1.41421))"
      ]
    },
    {
      "cell_type": "markdown",
      "metadata": {},
      "source": [
        "Refer to\n[TorchScript documentation](https://pytorch.org/docs/stable/jit.html)\nfor more advanced use cases.\n\n"
      ]
    },
    {
      "cell_type": "markdown",
      "metadata": {},
      "source": [
        "### Enable channels_last memory format for computer vision models\nPyTorch 1.5 introduced support for ``channels_last`` memory format for\nconvolutional networks. This format is meant to be used in conjunction with\n[AMP](https://pytorch.org/docs/stable/amp.html) to further accelerate\nconvolutional neural networks with\n[Tensor Cores](https://www.nvidia.com/en-us/data-center/tensor-cores/).\n\nSupport for ``channels_last`` is experimental, but it's expected to work for\nstandard computer vision models (e.g. ResNet-50, SSD). To convert models to\n``channels_last`` format follow\n[Channels Last Memory Format Tutorial](https://pytorch.org/tutorials/intermediate/memory_format_tutorial.html).\nThe tutorial includes a section on\n[converting existing models](https://pytorch.org/tutorials/intermediate/memory_format_tutorial.html#converting-existing-models).\n\n"
      ]
    },
    {
      "cell_type": "markdown",
      "metadata": {},
      "source": [
        "### Checkpoint intermediate buffers\nBuffer checkpointing is a technique to mitigate the memory capacity burden of\nmodel training. Instead of storing inputs of all layers to compute upstream\ngradients in backward propagation, it stores the inputs of a few layers and\nthe others are recomputed during backward pass. The reduced memory\nrequirements enables increasing the batch size that can improve utilization.\n\nCheckpointing targets should be selected carefully. The best is not to store\nlarge layer outputs that have small re-computation cost. The example target\nlayers are activation functions (e.g. ``ReLU``, ``Sigmoid``, ``Tanh``),\nup/down sampling and matrix-vector operations with small accumulation depth.\n\nPyTorch supports a native\n[torch.utils.checkpoint](https://pytorch.org/docs/stable/checkpoint.html)\nAPI to automatically perform checkpointing and recomputation.\n\n"
      ]
    },
    {
      "cell_type": "markdown",
      "metadata": {},
      "source": [
        "### Disable debugging APIs\nMany PyTorch APIs are intended for debugging and should be disabled for\nregular training runs:\n\n* anomaly detection:\n  [torch.autograd.detect_anomaly](https://pytorch.org/docs/stable/autograd.html#torch.autograd.detect_anomaly)\n  or\n  [torch.autograd.set_detect_anomaly(True)](https://pytorch.org/docs/stable/autograd.html#torch.autograd.set_detect_anomaly)\n* profiler related:\n  [torch.autograd.profiler.emit_nvtx](https://pytorch.org/docs/stable/autograd.html#torch.autograd.profiler.emit_nvtx),\n  [torch.autograd.profiler.profile](https://pytorch.org/docs/stable/autograd.html#torch.autograd.profiler.profile)\n* autograd ``gradcheck``:\n  [torch.autograd.gradcheck](https://pytorch.org/docs/stable/autograd.html#torch.autograd.gradcheck)\n  or\n  [torch.autograd.gradgradcheck](https://pytorch.org/docs/stable/autograd.html#torch.autograd.gradgradcheck)\n\n\n"
      ]
    },
    {
      "cell_type": "markdown",
      "metadata": {},
      "source": [
        "## CPU specific optimizations\n\n"
      ]
    },
    {
      "cell_type": "markdown",
      "metadata": {},
      "source": [
        "### Utilize Non-Uniform Memory Access (NUMA) Controls\nNUMA or non-uniform memory access is a memory layout design used in data center machines meant to take advantage of locality of memory in multi-socket machines with multiple memory controllers and blocks. Generally speaking, all deep learning workloads, training or inference, get better performance without accessing hardware resources across NUMA nodes. Thus, inference can be run with multiple instances, each instance runs on one socket, to raise throughput. For training tasks on single node, distributed training is recommended to make each training process run on one socket.\n\nIn general cases the following command executes a PyTorch script on cores on the Nth node only, and avoids cross-socket memory access to reduce memory access overhead.\n\n```sh\nnumactl --cpunodebind=N --membind=N python <pytorch_script>\n```\n"
      ]
    },
    {
      "cell_type": "markdown",
      "metadata": {},
      "source": [
        "More detailed descriptions can be found [here](https://intel.github.io/intel-extension-for-pytorch/cpu/latest/tutorials/performance_tuning/tuning_guide.html).\n\n"
      ]
    },
    {
      "cell_type": "markdown",
      "metadata": {},
      "source": [
        "### Utilize OpenMP\nOpenMP is utilized to bring better performance for parallel computation tasks.\n``OMP_NUM_THREADS`` is the easiest switch that can be used to accelerate computations. It determines number of threads used for OpenMP computations.\nCPU affinity setting controls how workloads are distributed over multiple cores. It affects communication overhead, cache line invalidation overhead, or page thrashing, thus proper setting of CPU affinity brings performance benefits. ``GOMP_CPU_AFFINITY`` or ``KMP_AFFINITY`` determines how to bind OpenMP* threads to physical processing units. Detailed information can be found [here](https://intel.github.io/intel-extension-for-pytorch/cpu/latest/tutorials/performance_tuning/tuning_guide.html).\n\n"
      ]
    },
    {
      "cell_type": "markdown",
      "metadata": {},
      "source": [
        "With the following command, PyTorch run the task on N OpenMP threads.\n\n```sh\nexport OMP_NUM_THREADS=N\n```\n"
      ]
    },
    {
      "cell_type": "markdown",
      "metadata": {},
      "source": [
        "Typically, the following environment variables are used to set for CPU affinity with GNU OpenMP implementation. ``OMP_PROC_BIND`` specifies whether threads may be moved between processors. Setting it to CLOSE keeps OpenMP threads close to the primary thread in contiguous place partitions. ``OMP_SCHEDULE`` determines how OpenMP threads are scheduled. ``GOMP_CPU_AFFINITY`` binds threads to specific CPUs.\n\n```sh\nexport OMP_SCHEDULE=STATIC\nexport OMP_PROC_BIND=CLOSE\nexport GOMP_CPU_AFFINITY=\"N-M\"\n```\n"
      ]
    },
    {
      "cell_type": "markdown",
      "metadata": {},
      "source": [
        "### Intel OpenMP Runtime Library (``libiomp``)\nBy default, PyTorch uses GNU OpenMP (GNU ``libgomp``) for parallel computation. On Intel platforms, Intel OpenMP Runtime Library (``libiomp``) provides OpenMP API specification support. It sometimes brings more performance benefits compared to ``libgomp``. Utilizing environment variable ``LD_PRELOAD`` can switch OpenMP library to ``libiomp``:\n\n```sh\nexport LD_PRELOAD=<path>/libiomp5.so:$LD_PRELOAD\n```\n"
      ]
    },
    {
      "cell_type": "markdown",
      "metadata": {},
      "source": [
        "Similar to CPU affinity settings in GNU OpenMP, environment variables are provided in ``libiomp`` to control CPU affinity settings.\n``KMP_AFFINITY`` binds OpenMP threads to physical processing units. ``KMP_BLOCKTIME`` sets the time, in milliseconds, that a thread should wait, after completing the execution of a parallel region, before sleeping. In most cases, setting ``KMP_BLOCKTIME`` to 1 or 0 yields good performances.\nThe following commands show a common settings with Intel OpenMP Runtime Library.\n\n```sh\nexport KMP_AFFINITY=granularity=fine,compact,1,0\nexport KMP_BLOCKTIME=1\n```\n"
      ]
    },
    {
      "cell_type": "markdown",
      "metadata": {},
      "source": [
        "### Switch Memory allocator\nFor deep learning workloads, ``Jemalloc`` or ``TCMalloc`` can get better performance by reusing memory as much as possible than default ``malloc`` function. [Jemalloc](https://github.com/jemalloc/jemalloc) is a general purpose ``malloc`` implementation that emphasizes fragmentation avoidance and scalable concurrency support. [TCMalloc](https://google.github.io/tcmalloc/overview.html) also features a couple of optimizations to speed up program executions. One of them is holding memory in caches to speed up access of commonly-used objects. Holding such caches even after deallocation also helps avoid costly system calls if such memory is later re-allocated.\nUse environment variable ``LD_PRELOAD`` to take advantage of one of them.\n\n```sh\nexport LD_PRELOAD=<jemalloc.so/tcmalloc.so>:$LD_PRELOAD\n```\n"
      ]
    },
    {
      "cell_type": "markdown",
      "metadata": {},
      "source": [
        "### Use oneDNN Graph with TorchScript for inference\noneDNN Graph can significantly boost inference performance. It fuses some compute-intensive operations such as convolution, matmul with their neighbor operations.\nIn PyTorch 2.0, it is supported as a beta feature for ``Float32`` & ``BFloat16`` data-types.\noneDNN Graph receives the model\u2019s graph and identifies candidates for operator-fusion with respect to the shape of the example input.\nA model should be JIT-traced using an example input.\nSpeed-up would then be observed after a couple of warm-up iterations for inputs with the same shape as the example input.\nThe example code-snippets below are for resnet50, but they can very well be extended to use oneDNN Graph with custom models as well.\n\n"
      ]
    },
    {
      "cell_type": "code",
      "execution_count": null,
      "metadata": {
        "collapsed": false
      },
      "outputs": [],
      "source": [
        "# Only this extra line of code is required to use oneDNN Graph\ntorch.jit.enable_onednn_fusion(True)"
      ]
    },
    {
      "cell_type": "markdown",
      "metadata": {},
      "source": [
        "Using the oneDNN Graph API requires just one extra line of code for inference with Float32.\nIf you are using oneDNN Graph, please avoid calling ``torch.jit.optimize_for_inference``.\n\n"
      ]
    },
    {
      "cell_type": "code",
      "execution_count": null,
      "metadata": {
        "collapsed": false
      },
      "outputs": [],
      "source": [
        "# sample input should be of the same shape as expected inputs\nsample_input = [torch.rand(32, 3, 224, 224)]\n# Using resnet50 from torchvision in this example for illustrative purposes,\n# but the line below can indeed be modified to use custom models as well.\nmodel = getattr(torchvision.models, \"resnet50\")().eval()\n# Tracing the model with example input\ntraced_model = torch.jit.trace(model, sample_input)\n# Invoking torch.jit.freeze\ntraced_model = torch.jit.freeze(traced_model)"
      ]
    },
    {
      "cell_type": "markdown",
      "metadata": {},
      "source": [
        "Once a model is JIT-traced with a sample input, it can then be used for inference after a couple of warm-up runs.\n\n"
      ]
    },
    {
      "cell_type": "code",
      "execution_count": null,
      "metadata": {
        "collapsed": false
      },
      "outputs": [],
      "source": [
        "with torch.no_grad():\n    # a couple of warm-up runs\n    traced_model(*sample_input)\n    traced_model(*sample_input)\n    # speedup would be observed after warm-up runs\n    traced_model(*sample_input)"
      ]
    },
    {
      "cell_type": "markdown",
      "metadata": {},
      "source": [
        "While the JIT fuser for oneDNN Graph also supports inference with ``BFloat16`` datatype,\nperformance benefit with oneDNN Graph is only exhibited by machines with AVX512_BF16\ninstruction set architecture (ISA).\nThe following code snippets serves as an example of using ``BFloat16`` datatype for inference with oneDNN Graph:\n\n"
      ]
    },
    {
      "cell_type": "code",
      "execution_count": null,
      "metadata": {
        "collapsed": false
      },
      "outputs": [],
      "source": [
        "# AMP for JIT mode is enabled by default, and is divergent with its eager mode counterpart\ntorch._C._jit_set_autocast_mode(False)\n\nwith torch.no_grad(), torch.cpu.amp.autocast(cache_enabled=False, dtype=torch.bfloat16):\n    # Conv-BatchNorm folding for CNN-based Vision Models should be done with ``torch.fx.experimental.optimization.fuse`` when AMP is used\n    import torch.fx.experimental.optimization as optimization\n    # Please note that optimization.fuse need not be called when AMP is not used\n    model = optimization.fuse(model)\n    model = torch.jit.trace(model, (example_input))\n    model = torch.jit.freeze(model)\n    # a couple of warm-up runs\n    model(example_input)\n    model(example_input)\n    # speedup would be observed in subsequent runs.\n    model(example_input)"
      ]
    },
    {
      "cell_type": "markdown",
      "metadata": {},
      "source": [
        "### Train a model on CPU with PyTorch ``DistributedDataParallel``(DDP) functionality\nFor small scale models or memory-bound models, such as DLRM, training on CPU is also a good choice. On a machine with multiple sockets, distributed training brings a high-efficient hardware resource usage to accelerate the training process. [Torch-ccl](https://github.com/intel/torch-ccl), optimized with Intel(R) ``oneCCL`` (collective communications library) for efficient distributed deep learning training implementing such collectives like ``allreduce``, ``allgather``, ``alltoall``, implements PyTorch C10D ``ProcessGroup`` API and can be dynamically loaded as external ``ProcessGroup``. Upon optimizations implemented in PyTorch DDP module, ``torch-ccl`` accelerates communication operations. Beside the optimizations made to communication kernels, ``torch-ccl`` also features simultaneous computation-communication functionality.\n\n"
      ]
    },
    {
      "cell_type": "markdown",
      "metadata": {},
      "source": [
        "## GPU specific optimizations\n\n"
      ]
    },
    {
      "cell_type": "markdown",
      "metadata": {},
      "source": [
        "### Enable cuDNN auto-tuner\n[NVIDIA cuDNN](https://developer.nvidia.com/cudnn) supports many algorithms\nto compute a convolution. Autotuner runs a short benchmark and selects the\nkernel with the best performance on a given hardware for a given input size.\n\nFor convolutional networks (other types currently not supported), enable cuDNN\nautotuner before launching the training loop by setting:\n\n"
      ]
    },
    {
      "cell_type": "code",
      "execution_count": null,
      "metadata": {
        "collapsed": false
      },
      "outputs": [],
      "source": [
        "torch.backends.cudnn.benchmark = True"
      ]
    },
    {
      "cell_type": "markdown",
      "metadata": {},
      "source": [
        "* the auto-tuner decisions may be non-deterministic; different algorithm may\n  be selected for different runs.  For more details see\n  [PyTorch: Reproducibility](https://pytorch.org/docs/stable/notes/randomness.html?highlight=determinism)\n* in some rare cases, such as with highly variable input sizes,  it's better\n  to run convolutional networks with autotuner disabled to avoid the overhead\n  associated with algorithm selection for each input size.\n\n\n"
      ]
    },
    {
      "cell_type": "markdown",
      "metadata": {},
      "source": [
        "### Avoid unnecessary CPU-GPU synchronization\nAvoid unnecessary synchronizations, to let the CPU run ahead of the\naccelerator as much as possible to make sure that the accelerator work queue\ncontains many operations.\n\nWhen possible, avoid operations which require synchronizations, for example:\n\n* ``print(cuda_tensor)``\n* ``cuda_tensor.item()``\n* memory copies: ``tensor.cuda()``,  ``cuda_tensor.cpu()`` and equivalent\n  ``tensor.to(device)`` calls\n* ``cuda_tensor.nonzero()``\n* python control flow which depends on results of operations performed on CUDA\n  tensors e.g. ``if (cuda_tensor != 0).all()``\n\n\n"
      ]
    },
    {
      "cell_type": "markdown",
      "metadata": {},
      "source": [
        "### Create tensors directly on the target device\nInstead of calling ``torch.rand(size).cuda()`` to generate a random tensor,\nproduce the output directly on the target device:\n``torch.rand(size, device='cuda')``.\n\nThis is applicable to all functions which create new tensors and accept\n``device`` argument:\n[torch.rand()](https://pytorch.org/docs/stable/generated/torch.rand.html#torch.rand),\n[torch.zeros()](https://pytorch.org/docs/stable/generated/torch.zeros.html#torch.zeros),\n[torch.full()](https://pytorch.org/docs/stable/generated/torch.full.html#torch.full)\nand similar.\n\n"
      ]
    },
    {
      "cell_type": "markdown",
      "metadata": {},
      "source": [
        "### Use mixed precision and AMP\nMixed precision leverages\n[Tensor Cores](https://www.nvidia.com/en-us/data-center/tensor-cores/)\nand offers up to 3x overall speedup on Volta and newer GPU architectures. To\nuse Tensor Cores AMP should be enabled and matrix/tensor dimensions should\nsatisfy requirements for calling kernels that use Tensor Cores.\n\nTo use Tensor Cores:\n\n* set sizes to multiples of 8 (to map onto dimensions of Tensor Cores)\n\n  * see\n    [Deep Learning Performance Documentation](https://docs.nvidia.com/deeplearning/performance/index.html#optimizing-performance)\n    for more details and guidelines specific to layer type\n  * if layer size is derived from other parameters rather than fixed, it can\n    still be explicitly padded e.g. vocabulary size in NLP models\n\n* enable AMP\n\n  * Introduction to Mixed Precision Training and AMP:\n    [video](https://www.youtube.com/watch?v=jF4-_ZK_tyc&feature=youtu.be),\n    [slides](https://nvlabs.github.io/eccv2020-mixed-precision-tutorial/files/dusan_stosic-training-neural-networks-with-tensor-cores.pdf)\n  * native PyTorch AMP is available starting from PyTorch 1.6:\n    [documentation](https://pytorch.org/docs/stable/amp.html),\n    [examples](https://pytorch.org/docs/stable/notes/amp_examples.html#amp-examples),\n    [tutorial](https://pytorch.org/tutorials/recipes/recipes/amp_recipe.html)\n\n\n\n"
      ]
    },
    {
      "cell_type": "markdown",
      "metadata": {},
      "source": [
        "### Preallocate memory in case of variable input length\nModels for speech recognition or for NLP are often trained on input tensors\nwith variable sequence length. Variable length can be problematic for PyTorch\ncaching allocator and can lead to reduced performance or to unexpected\nout-of-memory errors. If a batch with a short sequence length is followed by\nan another batch with longer sequence length, then PyTorch is forced to\nrelease intermediate buffers from previous iteration and to re-allocate new\nbuffers. This process is time consuming and causes fragmentation in the\ncaching allocator which may result in out-of-memory errors.\n\nA typical solution is to implement preallocation. It consists of the\nfollowing steps:\n\n#. generate a (usually random) batch of inputs with maximum sequence length\n   (either corresponding to max length in the training dataset or to some\n   predefined threshold)\n#. execute a forward and a backward pass with the generated batch, do not\n   execute an optimizer or a learning rate scheduler, this step preallocates\n   buffers of maximum size, which can be reused in subsequent\n   training iterations\n#. zero out gradients\n#. proceed to regular training\n\n\n"
      ]
    },
    {
      "cell_type": "markdown",
      "metadata": {},
      "source": [
        "## Distributed optimizations\n\n"
      ]
    },
    {
      "cell_type": "markdown",
      "metadata": {},
      "source": [
        "### Use efficient data-parallel backend\nPyTorch has two ways to implement data-parallel training:\n\n* [torch.nn.DataParallel](https://pytorch.org/docs/stable/generated/torch.nn.DataParallel.html#torch.nn.DataParallel)\n* [torch.nn.parallel.DistributedDataParallel](https://pytorch.org/docs/stable/generated/torch.nn.parallel.DistributedDataParallel.html#torch.nn.parallel.DistributedDataParallel)\n\n``DistributedDataParallel`` offers much better performance and scaling to\nmultiple-GPUs. For more information refer to the\n[relevant section of CUDA Best Practices](https://pytorch.org/docs/stable/notes/cuda.html#use-nn-parallel-distributeddataparallel-instead-of-multiprocessing-or-nn-dataparallel)\nfrom PyTorch documentation.\n\n"
      ]
    },
    {
      "cell_type": "markdown",
      "metadata": {},
      "source": [
        "### Skip unnecessary all-reduce if training with ``DistributedDataParallel`` and gradient accumulation\nBy default\n[torch.nn.parallel.DistributedDataParallel](https://pytorch.org/docs/stable/generated/torch.nn.parallel.DistributedDataParallel.html#torch.nn.parallel.DistributedDataParallel)\nexecutes gradient all-reduce after every backward pass to compute the average\ngradient over all workers participating in the training. If training uses\ngradient accumulation over N steps, then all-reduce is not necessary after\nevery training step, it's only required to perform all-reduce after the last\ncall to backward, just before the execution of the optimizer.\n\n``DistributedDataParallel`` provides\n[no_sync()](https://pytorch.org/docs/stable/generated/torch.nn.parallel.DistributedDataParallel.html#torch.nn.parallel.DistributedDataParallel.no_sync)\ncontext manager which disables gradient all-reduce for particular iteration.\n``no_sync()`` should be applied to first ``N-1`` iterations of gradient\naccumulation, the last iteration should follow the default execution and\nperform the required gradient all-reduce.\n\n"
      ]
    },
    {
      "cell_type": "markdown",
      "metadata": {},
      "source": [
        "### Match the order of layers in constructors and during the execution if using ``DistributedDataParallel(find_unused_parameters=True)``\n[torch.nn.parallel.DistributedDataParallel](https://pytorch.org/docs/stable/generated/torch.nn.parallel.DistributedDataParallel.html#torch.nn.parallel.DistributedDataParallel)\nwith ``find_unused_parameters=True`` uses the order of layers and parameters\nfrom model constructors to build buckets for ``DistributedDataParallel``\ngradient all-reduce. ``DistributedDataParallel`` overlaps all-reduce with the\nbackward pass. All-reduce for a particular bucket is asynchronously triggered\nonly when all gradients for parameters in a given bucket are available.\n\nTo maximize the amount of overlap, the order in model constructors should\nroughly match the order during the execution. If the order doesn't match, then\nall-reduce for the entire bucket waits for the gradient which is the last to\narrive, this may reduce the overlap between backward pass and all-reduce,\nall-reduce may end up being exposed, which slows down the training.\n\n``DistributedDataParallel`` with ``find_unused_parameters=False`` (which is\nthe default setting) relies on automatic bucket formation based on order of\noperations encountered during the backward pass. With\n``find_unused_parameters=False`` it's not necessary to reorder layers or\nparameters to achieve optimal performance.\n\n"
      ]
    },
    {
      "cell_type": "markdown",
      "metadata": {},
      "source": [
        "### Load-balance workload in a distributed setting\nLoad imbalance typically may happen for models processing sequential data\n(speech recognition, translation, language models etc.). If one device\nreceives a batch of data with sequence length longer than sequence lengths for\nthe remaining devices, then all devices wait for the worker which finishes\nlast. Backward pass functions as an implicit synchronization point in a\ndistributed setting with\n[DistributedDataParallel](https://pytorch.org/docs/stable/generated/torch.nn.parallel.DistributedDataParallel.html#torch.nn.parallel.DistributedDataParallel)\nbackend.\n\nThere are multiple ways to solve the load balancing problem. The core idea is\nto distribute workload over all workers as uniformly as possible within each\nglobal batch. For example Transformer solves imbalance by forming batches with\napproximately constant number of tokens (and variable number of sequences in a\nbatch), other models solve imbalance by bucketing samples with similar\nsequence length or even by sorting dataset by sequence length.\n\n"
      ]
    }
  ],
  "metadata": {
    "kernelspec": {
      "display_name": "Python 3",
      "language": "python",
      "name": "python3"
    },
    "language_info": {
      "codemirror_mode": {
        "name": "ipython",
        "version": 3
      },
      "file_extension": ".py",
      "mimetype": "text/x-python",
      "name": "python",
      "nbconvert_exporter": "python",
      "pygments_lexer": "ipython3",
      "version": "3.10.14"
    }
  },
  "nbformat": 4,
  "nbformat_minor": 0
}