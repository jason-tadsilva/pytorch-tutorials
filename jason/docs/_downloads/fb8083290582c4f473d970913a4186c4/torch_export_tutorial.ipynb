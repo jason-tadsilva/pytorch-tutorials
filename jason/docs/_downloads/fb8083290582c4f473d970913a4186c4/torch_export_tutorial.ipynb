{
  "cells": [
    {
      "cell_type": "code",
      "execution_count": null,
      "metadata": {
        "collapsed": false
      },
      "outputs": [],
      "source": [
        "# For tips on running notebooks in Google Colab, see\n# https://pytorch.org/tutorials/beginner/colab\n%matplotlib inline"
      ]
    },
    {
      "cell_type": "markdown",
      "metadata": {},
      "source": [
        "\n# torch.export Tutorial\n**Author:** William Wen, Zhengxu Chen, Angela Yi\n"
      ]
    },
    {
      "cell_type": "markdown",
      "metadata": {},
      "source": [
        "<div class=\"alert alert-danger\"><h4>Warning</h4><p>``torch.export`` and its related features are in prototype status and are subject to backwards compatibility\n    breaking changes. This tutorial provides a snapshot of ``torch.export`` usage as of PyTorch 2.2.</p></div>\n\n:func:`torch.export` is the PyTorch 2.X way to export PyTorch models into\nstandardized model representations, intended\nto be run on different (i.e. Python-less) environments.\n\nIn this tutorial, you will learn how to use :func:`torch.export` to extract\n``ExportedProgram``'s (i.e. single-graph representations) from PyTorch programs.\nWe also detail some considerations/modifications that you may need\nto make in order to make your model compatible with ``torch.export``.\n\n**Contents**\n\n"
      ]
    },
    {
      "cell_type": "markdown",
      "metadata": {},
      "source": [
        "## Basic Usage\n\n``torch.export`` extracts single-graph representations from PyTorch programs\nby tracing the target function, given example inputs.\n``torch.export.export()`` is the main entry point for ``torch.export``.\n\nIn this tutorial, ``torch.export`` and ``torch.export.export()`` are practically synonymous,\nthough ``torch.export`` generally refers to the PyTorch 2.X export process, and ``torch.export.export()``\ngenerally refers to the actual function call.\n\nThe signature of ``torch.export.export()`` is:\n\n```python\nexport(\n    f: Callable,\n    args: Tuple[Any, ...],\n    kwargs: Optional[Dict[str, Any]] = None,\n    *,\n    dynamic_shapes: Optional[Dict[str, Dict[int, Dim]]] = None\n) -> ExportedProgram\n```\n``torch.export.export()`` traces the tensor computation graph from calling ``f(*args, **kwargs)``\nand wraps it in an ``ExportedProgram``, which can be serialized or executed later with\ndifferent inputs. Note that while the output ``ExportedGraph`` is callable and can be\ncalled in the same way as the original input callable, it is not a ``torch.nn.Module``.\nWe will detail the ``dynamic_shapes`` argument later in the tutorial.\n\n"
      ]
    },
    {
      "cell_type": "code",
      "execution_count": null,
      "metadata": {
        "collapsed": false
      },
      "outputs": [],
      "source": [
        "import torch\nfrom torch.export import export\n\nclass MyModule(torch.nn.Module):\n    def __init__(self):\n        super().__init__()\n        self.lin = torch.nn.Linear(100, 10)\n\n    def forward(self, x, y):\n        return torch.nn.functional.relu(self.lin(x + y), inplace=True)\n\nmod = MyModule()\nexported_mod = export(mod, (torch.randn(8, 100), torch.randn(8, 100)))\nprint(type(exported_mod))\nprint(exported_mod(torch.randn(8, 100), torch.randn(8, 100)))"
      ]
    },
    {
      "cell_type": "markdown",
      "metadata": {},
      "source": [
        "Let's review some attributes of ``ExportedProgram`` that are of interest.\n\nThe ``graph`` attribute is an [FX graph](https://pytorch.org/docs/stable/fx.html#torch.fx.Graph)_\ntraced from the function we exported, that is, the computation graph of all PyTorch operations.\nThe FX graph has some important properties:\n\n- The operations are \"ATen-level\" operations.\n- The graph is \"functionalized\", meaning that no operations are mutations.\n\nThe ``graph_module`` attribute is the ``GraphModule`` that wraps the ``graph`` attribute\nso that it can be ran as a ``torch.nn.Module``.\n\n"
      ]
    },
    {
      "cell_type": "code",
      "execution_count": null,
      "metadata": {
        "collapsed": false
      },
      "outputs": [],
      "source": [
        "print(exported_mod)\nprint(exported_mod.graph_module)"
      ]
    },
    {
      "cell_type": "markdown",
      "metadata": {},
      "source": [
        "The printed code shows that FX graph only contains ATen-level ops (such as ``torch.ops.aten``)\nand that mutations were removed. For example, the mutating op ``torch.nn.functional.relu(..., inplace=True)``\nis represented in the printed code by ``torch.ops.aten.relu.default``, which does not mutate.\nFuture uses of input to the original mutating ``relu`` op are replaced by the additional new output\nof the replacement non-mutating ``relu`` op.\n\nOther attributes of interest in ``ExportedProgram`` include:\n\n- ``graph_signature`` -- the inputs, outputs, parameters, buffers, etc. of the exported graph.\n- ``range_constraints`` and ``equality_constraints`` -- constraints, covered later\n\n"
      ]
    },
    {
      "cell_type": "code",
      "execution_count": null,
      "metadata": {
        "collapsed": false
      },
      "outputs": [],
      "source": [
        "print(exported_mod.graph_signature)"
      ]
    },
    {
      "cell_type": "markdown",
      "metadata": {},
      "source": [
        "See the ``torch.export`` [documentation](https://pytorch.org/docs/main/export.html#torch.export.export)_\nfor more details.\n\n"
      ]
    },
    {
      "cell_type": "markdown",
      "metadata": {},
      "source": [
        "## Graph Breaks\n\nAlthough ``torch.export`` shares components with ``torch.compile``,\nthe key limitation of ``torch.export``, especially when compared to ``torch.compile``, is that it does not\nsupport graph breaks. This is because handling graph breaks involves interpreting\nthe unsupported operation with default Python evaluation, which is incompatible\nwith the export use case. Therefore, in order to make your model code compatible\nwith ``torch.export``, you will need to modify your code to remove graph breaks.\n\nA graph break is necessary in cases such as:\n\n- data-dependent control flow\n\n"
      ]
    },
    {
      "cell_type": "code",
      "execution_count": null,
      "metadata": {
        "collapsed": false
      },
      "outputs": [],
      "source": [
        "def bad1(x):\n    if x.sum() > 0:\n        return torch.sin(x)\n    return torch.cos(x)\n\nimport traceback as tb\ntry:\n    export(bad1, (torch.randn(3, 3),))\nexcept Exception:\n    tb.print_exc()"
      ]
    },
    {
      "cell_type": "markdown",
      "metadata": {},
      "source": [
        "- accessing tensor data with ``.data``\n\n"
      ]
    },
    {
      "cell_type": "code",
      "execution_count": null,
      "metadata": {
        "collapsed": false
      },
      "outputs": [],
      "source": [
        "def bad2(x):\n    x.data[0, 0] = 3\n    return x\n\ntry:\n    export(bad2, (torch.randn(3, 3),))\nexcept Exception:\n    tb.print_exc()"
      ]
    },
    {
      "cell_type": "markdown",
      "metadata": {},
      "source": [
        "- calling unsupported functions (such as many built-in functions)\n\n"
      ]
    },
    {
      "cell_type": "code",
      "execution_count": null,
      "metadata": {
        "collapsed": false
      },
      "outputs": [],
      "source": [
        "def bad3(x):\n    x = x + 1\n    return x + id(x)\n\ntry:\n    export(bad3, (torch.randn(3, 3),))\nexcept Exception:\n    tb.print_exc()"
      ]
    },
    {
      "cell_type": "markdown",
      "metadata": {},
      "source": [
        "- unsupported Python language features (e.g. throwing exceptions, match statements)\n\n"
      ]
    },
    {
      "cell_type": "code",
      "execution_count": null,
      "metadata": {
        "collapsed": false
      },
      "outputs": [],
      "source": [
        "def bad4(x):\n    try:\n        x = x + 1\n        raise RuntimeError(\"bad\")\n    except:\n        x = x + 2\n    return x\n\ntry:\n    export(bad4, (torch.randn(3, 3),))\nexcept Exception:\n    tb.print_exc()"
      ]
    },
    {
      "cell_type": "markdown",
      "metadata": {},
      "source": [
        "The sections below demonstrate some ways you can modify your code\nin order to remove graph breaks.\n\n"
      ]
    },
    {
      "cell_type": "markdown",
      "metadata": {},
      "source": [
        "## Control Flow Ops\n\n``torch.export`` actually does support data-dependent control flow.\nBut these need to be expressed using control flow ops. For example,\nwe can fix the control flow example above using the ``cond`` op, like so:\n\n"
      ]
    },
    {
      "cell_type": "code",
      "execution_count": null,
      "metadata": {
        "collapsed": false
      },
      "outputs": [],
      "source": [
        "from functorch.experimental.control_flow import cond\n\ndef bad1_fixed(x):\n    def true_fn(x):\n        return torch.sin(x)\n    def false_fn(x):\n        return torch.cos(x)\n    return cond(x.sum() > 0, true_fn, false_fn, [x])\n\nexported_bad1_fixed = export(bad1_fixed, (torch.randn(3, 3),))\nprint(exported_bad1_fixed(torch.ones(3, 3)))\nprint(exported_bad1_fixed(-torch.ones(3, 3)))"
      ]
    },
    {
      "cell_type": "markdown",
      "metadata": {},
      "source": [
        "There are limitations to ``cond`` that one should be aware of:\n\n- The predicate (i.e. ``x.sum() > 0``) must result in a boolean or a single-element tensor.\n- The operands (i.e. ``[x]``) must be tensors.\n- The branch function (i.e. ``true_fn`` and ``false_fn``) signature must match with the\n  operands and they must both return a single tensor with the same metadata (for example, ``dtype``, ``shape``, etc.).\n- Branch functions cannot mutate input or global variables.\n- Branch functions cannot access closure variables, except for ``self`` if the function is\n  defined in the scope of a method.\n\nFor more details about ``cond``, check out the [cond documentation](https://pytorch.org/docs/main/cond.html)_.\n\n"
      ]
    },
    {
      "cell_type": "markdown",
      "metadata": {},
      "source": [
        "..\n    [NOTE] map is not documented at the moment\n    We can also use ``map``, which applies a function across the first dimension\n    of the first tensor argument.\n\n    from functorch.experimental.control_flow import map\n\n    def map_example(xs):\n        def map_fn(x, const):\n            def true_fn(x):\n                return x + const\n            def false_fn(x):\n                return x - const\n            return control_flow.cond(x.sum() > 0, true_fn, false_fn, [x])\n        return control_flow.map(map_fn, xs, torch.tensor([2.0]))\n\n    exported_map_example= export(map_example, (torch.randn(4, 3),))\n    inp = torch.cat((torch.ones(2, 3), -torch.ones(2, 3)))\n    print(exported_map_example(inp))\n\n"
      ]
    },
    {
      "cell_type": "markdown",
      "metadata": {},
      "source": [
        "## Constraints/Dynamic Shapes\n\nOps can have different specializations/behaviors for different tensor shapes, so by default,\n``torch.export`` requires inputs to ``ExportedProgram`` to have the same shape as the respective\nexample inputs given to the initial ``torch.export.export()`` call.\nIf we try to run the ``ExportedProgram`` in the example below with a tensor\nwith a different shape, we get an error:\n\n"
      ]
    },
    {
      "cell_type": "code",
      "execution_count": null,
      "metadata": {
        "collapsed": false
      },
      "outputs": [],
      "source": [
        "class MyModule2(torch.nn.Module):\n    def __init__(self):\n        super().__init__()\n        self.lin = torch.nn.Linear(100, 10)\n\n    def forward(self, x, y):\n        return torch.nn.functional.relu(self.lin(x + y), inplace=True)\n\nmod2 = MyModule2()\nexported_mod2 = export(mod2, (torch.randn(8, 100), torch.randn(8, 100)))\n\ntry:\n    exported_mod2(torch.randn(10, 100), torch.randn(10, 100))\nexcept Exception:\n    tb.print_exc()"
      ]
    },
    {
      "cell_type": "markdown",
      "metadata": {},
      "source": [
        "We can relax this constraint using the ``dynamic_shapes`` argument of\n``torch.export.export()``, which allows us to specify, using ``torch.export.Dim``\n([documentation](https://pytorch.org/docs/main/export.html#torch.export.Dim)_),\nwhich dimensions of the input tensors are dynamic.\n\nFor each tensor argument of the input callable, we can specify a mapping from the dimension\nto a ``torch.export.Dim``.\nA ``torch.export.Dim`` is essentially a named symbolic integer with optional\nminimum and maximum bounds.\n\nThen, the format of ``torch.export.export()``'s ``dynamic_shapes`` argument is a mapping\nfrom the input callable's tensor argument names, to dimension --> dim mappings as described above.\nIf there is no ``torch.export.Dim`` given to a tensor argument's dimension, then that dimension is\nassumed to be static.\n\nThe first argument of ``torch.export.Dim`` is the name for the symbolic integer, used for debugging.\nThen we can specify an optional minimum and maximum bound (inclusive). Below, we show a usage example.\n\nIn the example below, our input\n``inp1`` has an unconstrained first dimension, but the size of the second\ndimension must be in the interval [4, 18].\n\n"
      ]
    },
    {
      "cell_type": "code",
      "execution_count": null,
      "metadata": {
        "collapsed": false
      },
      "outputs": [],
      "source": [
        "from torch.export import Dim\n\ninp1 = torch.randn(10, 10, 2)\n\ndef dynamic_shapes_example1(x):\n    x = x[:, 2:]\n    return torch.relu(x)\n\ninp1_dim0 = Dim(\"inp1_dim0\")\ninp1_dim1 = Dim(\"inp1_dim1\", min=4, max=18)\ndynamic_shapes1 = {\n    \"x\": {0: inp1_dim0, 1: inp1_dim1},\n}\n\nexported_dynamic_shapes_example1 = export(dynamic_shapes_example1, (inp1,), dynamic_shapes=dynamic_shapes1)\n\nprint(exported_dynamic_shapes_example1(torch.randn(5, 5, 2)))\n\ntry:\n    exported_dynamic_shapes_example1(torch.randn(8, 1, 2))\nexcept Exception:\n    tb.print_exc()\n\ntry:\n    exported_dynamic_shapes_example1(torch.randn(8, 20, 2))\nexcept Exception:\n    tb.print_exc()\n\ntry:\n    exported_dynamic_shapes_example1(torch.randn(8, 8, 3))\nexcept Exception:\n    tb.print_exc()"
      ]
    },
    {
      "cell_type": "markdown",
      "metadata": {},
      "source": [
        "Note that if our example inputs to ``torch.export`` do not satisfy the constraints\ngiven by ``dynamic_shapes``, then we get an error.\n\n"
      ]
    },
    {
      "cell_type": "code",
      "execution_count": null,
      "metadata": {
        "collapsed": false
      },
      "outputs": [],
      "source": [
        "inp1_dim1_bad = Dim(\"inp1_dim1_bad\", min=11, max=18)\ndynamic_shapes1_bad = {\n    \"x\": {0: inp1_dim0, 1: inp1_dim1_bad},\n}\n\ntry:\n    export(dynamic_shapes_example1, (inp1,), dynamic_shapes=dynamic_shapes1_bad)\nexcept Exception:\n    tb.print_exc()"
      ]
    },
    {
      "cell_type": "markdown",
      "metadata": {},
      "source": [
        "We can enforce that equalities between dimensions of different tensors\nby using the same ``torch.export.Dim`` object, for example, in matrix multiplication:\n\n"
      ]
    },
    {
      "cell_type": "code",
      "execution_count": null,
      "metadata": {
        "collapsed": false
      },
      "outputs": [],
      "source": [
        "inp2 = torch.randn(4, 8)\ninp3 = torch.randn(8, 2)\n\ndef dynamic_shapes_example2(x, y):\n    return x @ y\n\ninp2_dim0 = Dim(\"inp2_dim0\")\ninner_dim = Dim(\"inner_dim\")\ninp3_dim1 = Dim(\"inp3_dim1\")\n\ndynamic_shapes2 = {\n    \"x\": {0: inp2_dim0, 1: inner_dim},\n    \"y\": {0: inner_dim, 1: inp3_dim1},\n}\n\nexported_dynamic_shapes_example2 = export(dynamic_shapes_example2, (inp2, inp3), dynamic_shapes=dynamic_shapes2)\n\nprint(exported_dynamic_shapes_example2(torch.randn(2, 16), torch.randn(16, 4)))\n\ntry:\n    exported_dynamic_shapes_example2(torch.randn(4, 8), torch.randn(4, 2))\nexcept Exception:\n    tb.print_exc()"
      ]
    },
    {
      "cell_type": "markdown",
      "metadata": {},
      "source": [
        "We can actually use ``torch.export`` to guide us as to which ``dynamic_shapes`` constraints\nare necessary. We can do this by relaxing all constraints (recall that if we\ndo not provide constraints for a dimension, the default behavior is to constrain\nto the exact shape value of the example input) and letting ``torch.export``\nerror out.\n\n"
      ]
    },
    {
      "cell_type": "code",
      "execution_count": null,
      "metadata": {
        "collapsed": false
      },
      "outputs": [],
      "source": [
        "inp4 = torch.randn(8, 16)\ninp5 = torch.randn(16, 32)\n\ndef dynamic_shapes_example3(x, y):\n    if x.shape[0] <= 16:\n        return x @ y[:, :16]\n    return y\n\ndynamic_shapes3 = {\n    \"x\": {i: Dim(f\"inp4_dim{i}\") for i in range(inp4.dim())},\n    \"y\": {i: Dim(f\"inp5_dim{i}\") for i in range(inp5.dim())},\n}\n\ntry:\n    export(dynamic_shapes_example3, (inp4, inp5), dynamic_shapes=dynamic_shapes3)\nexcept Exception:\n    tb.print_exc()"
      ]
    },
    {
      "cell_type": "markdown",
      "metadata": {},
      "source": [
        "We can see that the error message gives us suggested fixes to our\ndynamic shape constraints. Let us follow those suggestions (exact\nsuggestions may differ slightly):\n\n"
      ]
    },
    {
      "cell_type": "code",
      "execution_count": null,
      "metadata": {
        "collapsed": false
      },
      "outputs": [],
      "source": [
        "def suggested_fixes():\n    inp4_dim1 = Dim('shared_dim')\n    # suggested fixes below\n    inp4_dim0 = Dim('inp4_dim0', max=16)\n    inp5_dim1 = Dim('inp5_dim1', min=17)\n    inp5_dim0 = inp4_dim1\n    # end of suggested fixes\n    return {\n        \"x\": {0: inp4_dim0, 1: inp4_dim1},\n        \"y\": {0: inp5_dim0, 1: inp5_dim1},\n    }\n\ndynamic_shapes3_fixed = suggested_fixes()\nexported_dynamic_shapes_example3 = export(dynamic_shapes_example3, (inp4, inp5), dynamic_shapes=dynamic_shapes3_fixed)\nprint(exported_dynamic_shapes_example3(torch.randn(4, 32), torch.randn(32, 64)))"
      ]
    },
    {
      "cell_type": "markdown",
      "metadata": {},
      "source": [
        "Note that in the example above, because we constrained the value of ``x.shape[0]`` in\n``dynamic_shapes_example3``, the exported program is sound even though there is a\nraw ``if`` statement.\n\nIf you want to see why ``torch.export`` generated these constraints, you can\nre-run the script with the environment variable ``TORCH_LOGS=dynamic,dynamo``,\nor use ``torch._logging.set_logs``.\n\n"
      ]
    },
    {
      "cell_type": "code",
      "execution_count": null,
      "metadata": {
        "collapsed": false
      },
      "outputs": [],
      "source": [
        "import logging\ntorch._logging.set_logs(dynamic=logging.INFO, dynamo=logging.INFO)\nexported_dynamic_shapes_example3 = export(dynamic_shapes_example3, (inp4, inp5), dynamic_shapes=dynamic_shapes3_fixed)\n\n# reset to previous values\ntorch._logging.set_logs(dynamic=logging.WARNING, dynamo=logging.WARNING)"
      ]
    },
    {
      "cell_type": "markdown",
      "metadata": {},
      "source": [
        "We can view an ``ExportedProgram``'s constraints using the ``range_constraints`` and\n``equality_constraints`` attributes. The logging above reveals what the symbols ``s0, s1, ...``\nrepresent.\n\n"
      ]
    },
    {
      "cell_type": "code",
      "execution_count": null,
      "metadata": {
        "collapsed": false
      },
      "outputs": [],
      "source": [
        "print(exported_dynamic_shapes_example3.range_constraints)\nprint(exported_dynamic_shapes_example3.equality_constraints)"
      ]
    },
    {
      "cell_type": "markdown",
      "metadata": {},
      "source": [
        "## Custom Ops\n\n``torch.export`` can export PyTorch programs with custom operators.\n\nCurrently, the steps to register a custom op for use by ``torch.export`` are:\n\n- Define the custom op using ``torch.library`` ([reference](https://pytorch.org/docs/main/library.html)_)\n  as with any other custom op\n\n"
      ]
    },
    {
      "cell_type": "code",
      "execution_count": null,
      "metadata": {
        "collapsed": false
      },
      "outputs": [],
      "source": [
        "from torch.library import Library, impl\n\nm = Library(\"my_custom_library\", \"DEF\")\n\nm.define(\"custom_op(Tensor input) -> Tensor\")\n\n@impl(m, \"custom_op\", \"CompositeExplicitAutograd\")\ndef custom_op(x):\n    print(\"custom_op called!\")\n    return torch.relu(x)"
      ]
    },
    {
      "cell_type": "markdown",
      "metadata": {},
      "source": [
        "- Define a ``\"Meta\"`` implementation of the custom op that returns an empty\n  tensor with the same shape as the expected output\n\n"
      ]
    },
    {
      "cell_type": "code",
      "execution_count": null,
      "metadata": {
        "collapsed": false
      },
      "outputs": [],
      "source": [
        "@impl(m, \"custom_op\", \"Meta\")\ndef custom_op_meta(x):\n    return torch.empty_like(x)"
      ]
    },
    {
      "cell_type": "markdown",
      "metadata": {},
      "source": [
        "- Call the custom op from the code you want to export using ``torch.ops``\n\n"
      ]
    },
    {
      "cell_type": "code",
      "execution_count": null,
      "metadata": {
        "collapsed": false
      },
      "outputs": [],
      "source": [
        "def custom_op_example(x):\n    x = torch.sin(x)\n    x = torch.ops.my_custom_library.custom_op(x)\n    x = torch.cos(x)\n    return x"
      ]
    },
    {
      "cell_type": "markdown",
      "metadata": {},
      "source": [
        "- Export the code as before\n\n"
      ]
    },
    {
      "cell_type": "code",
      "execution_count": null,
      "metadata": {
        "collapsed": false
      },
      "outputs": [],
      "source": [
        "exported_custom_op_example = export(custom_op_example, (torch.randn(3, 3),))\nexported_custom_op_example.graph_module.print_readable()\nprint(exported_custom_op_example(torch.randn(3, 3)))"
      ]
    },
    {
      "cell_type": "markdown",
      "metadata": {},
      "source": [
        "Note in the above outputs that the custom op is included in the exported graph.\nAnd when we call the exported graph as a function, the original custom op is called,\nas evidenced by the ``print`` call.\n\nIf you have a custom operator implemented in C++, please refer to\n[this document](https://docs.google.com/document/d/1_W62p8WJOQQUzPsJYa7s701JXt0qf2OfLub2sbkHOaU/edit#heading=h.ahugy69p2jmz)_\nto make it compatible with ``torch.export``.\n\n"
      ]
    },
    {
      "cell_type": "markdown",
      "metadata": {},
      "source": [
        "## Decompositions\n\nThe graph produced by ``torch.export`` by default returns a graph containing\nonly functional ATen operators. This functional ATen operator set (or \"opset\") contains around 2000\noperators, all of which are functional, that is, they do not\nmutate or alias inputs.  You can find a list of all ATen operators\n[here](https://github.com/pytorch/pytorch/blob/main/aten/src/ATen/native/native_functions.yaml)_\nand you can inspect if an operator is functional by checking\n``op._schema.is_mutable``, for example:\n\n"
      ]
    },
    {
      "cell_type": "code",
      "execution_count": null,
      "metadata": {
        "collapsed": false
      },
      "outputs": [],
      "source": [
        "print(torch.ops.aten.add.Tensor._schema.is_mutable)\nprint(torch.ops.aten.add_.Tensor._schema.is_mutable)"
      ]
    },
    {
      "cell_type": "markdown",
      "metadata": {},
      "source": [
        "By default, the environment in which you want to run the exported graph\nshould support all ~2000 of these operators.\nHowever, you can use the following API on the exported program\nif your specific environment is only able to support a subset of\nthe ~2000 operators.\n\n.. code-block:: python\n    def run_decompositions(\n        self: ExportedProgram,\n        decomposition_table: Optional[Dict[torch._ops.OperatorBase, Callable]]\n    ) -> ExportedProgram\n\n``run_decompositions`` takes in a decomposition table, which is a mapping of\noperators to a function specifying how to reduce, or decompose, that operator\ninto an equivalent sequence of other ATen operators.\n\nThe default decomposition table for ``run_decompositions`` is the\n[Core ATen decomposition table](https://github.com/pytorch/pytorch/blob/b460c3089367f3fadd40aa2cb3808ee370aa61e1/torch/_decomp/__init__.py#L252)_\nwhich will decompose the all ATen operators to the\n[Core ATen Operator Set](https://pytorch.org/docs/main/torch.compiler_ir.html#core-aten-ir)_\nwhich consists of only ~180 operators.\n\n"
      ]
    },
    {
      "cell_type": "code",
      "execution_count": null,
      "metadata": {
        "collapsed": false
      },
      "outputs": [],
      "source": [
        "class M(torch.nn.Module):\n    def __init__(self):\n        super().__init__()\n        self.linear = torch.nn.Linear(3, 4)\n\n    def forward(self, x):\n        return self.linear(x)\n\nep = export(M(), (torch.randn(2, 3),))\nprint(ep.graph)\n\ncore_ir_ep = ep.run_decompositions()\nprint(core_ir_ep.graph)"
      ]
    },
    {
      "cell_type": "markdown",
      "metadata": {},
      "source": [
        "Notice that after running ``run_decompositions`` the\n``torch.ops.aten.t.default`` operator, which is not part of the Core ATen\nOpset, has been replaced with ``torch.ops.aten.permute.default`` which is part\nof the Core ATen Opset.\n\nMost ATen operators already have decompositions, which are located\n[here](https://github.com/pytorch/pytorch/blob/b460c3089367f3fadd40aa2cb3808ee370aa61e1/torch/_decomp/decompositions.py)_.\nIf you would like to use some of these existing decomposition functions,\nyou can pass in a list of operators you would like to decompose to the\n[get_decompositions](https://github.com/pytorch/pytorch/blob/b460c3089367f3fadd40aa2cb3808ee370aa61e1/torch/_decomp/__init__.py#L191)_\nfunction, which will return a decomposition table using existing\ndecomposition implementations.\n\n"
      ]
    },
    {
      "cell_type": "code",
      "execution_count": null,
      "metadata": {
        "collapsed": false
      },
      "outputs": [],
      "source": [
        "class M(torch.nn.Module):\n    def __init__(self):\n        super().__init__()\n        self.linear = torch.nn.Linear(3, 4)\n\n    def forward(self, x):\n        return self.linear(x)\n\nep = export(M(), (torch.randn(2, 3),))\nprint(ep.graph)\n\nfrom torch._decomp import get_decompositions\ndecomp_table = get_decompositions([torch.ops.aten.t.default, torch.ops.aten.transpose.int])\ncore_ir_ep = ep.run_decompositions(decomp_table)\nprint(core_ir_ep.graph)"
      ]
    },
    {
      "cell_type": "markdown",
      "metadata": {},
      "source": [
        "If there is no existing decomposition function for an ATen operator that you would\nlike to decompose, feel free to send a pull request into PyTorch\nimplementing the decomposition!\n\n"
      ]
    },
    {
      "cell_type": "markdown",
      "metadata": {},
      "source": [
        "## ExportDB\n\n``torch.export`` will only ever export a single computation graph from a PyTorch program. Because of this requirement,\nthere will be Python or PyTorch features that are not compatible with ``torch.export``, which will require users to\nrewrite parts of their model code. We have seen examples of this earlier in the tutorial -- for example, rewriting\nif-statements using ``cond``.\n\n[ExportDB](https://pytorch.org/docs/main/generated/exportdb/index.html)_ is the standard reference that documents\nsupported and unsupported Python/PyTorch features for ``torch.export``. It is essentially a list a program samples, each\nof which represents the usage of one particular Python/PyTorch feature and its interaction with ``torch.export``.\nExamples are also tagged by category so that they can be more easily searched.\n\nFor example, let's use ExportDB to get a better understanding of how the predicate works in the ``cond`` operator.\nWe can look at the example called ``cond_predicate``, which has a ``torch.cond`` tag. The example code looks like:\n\n"
      ]
    },
    {
      "cell_type": "code",
      "execution_count": null,
      "metadata": {
        "collapsed": false
      },
      "outputs": [],
      "source": [
        "def cond_predicate(x):\n    \"\"\"\n    The conditional statement (aka predicate) passed to ``cond()`` must be one of the following:\n    - ``torch.Tensor`` with a single element\n    - boolean expression\n    NOTE: If the `pred` is test on a dim with batch size < 2, it will be specialized.\n    \"\"\"\n    pred = x.dim() > 2 and x.shape[2] > 10\n    return cond(pred, lambda x: x.cos(), lambda y: y.sin(), [x])"
      ]
    },
    {
      "cell_type": "markdown",
      "metadata": {},
      "source": [
        "More generally, ExportDB can be used as a reference when one of the following occurs:\n\n1. Before attempting ``torch.export``, you know ahead of time that your model uses some tricky Python/PyTorch features\n   and you want to know if ``torch.export`` covers that feature.\n2. When attempting ``torch.export``, there is a failure and it's unclear how to work around it.\n\nExportDB is not exhaustive, but is intended to cover all use cases found in typical PyTorch code. Feel free to reach\nout if there is an important Python/PyTorch feature that should be added to ExportDB or supported by ``torch.export``.\n\n"
      ]
    },
    {
      "cell_type": "markdown",
      "metadata": {},
      "source": [
        "## Conclusion\n\nWe introduced ``torch.export``, the new PyTorch 2.X way to export single computation\ngraphs from PyTorch programs. In particular, we demonstrate several code modifications\nand considerations (control flow ops, constraints, etc.) that need to be made in order to export a graph.\n\n"
      ]
    }
  ],
  "metadata": {
    "kernelspec": {
      "display_name": "Python 3",
      "language": "python",
      "name": "python3"
    },
    "language_info": {
      "codemirror_mode": {
        "name": "ipython",
        "version": 3
      },
      "file_extension": ".py",
      "mimetype": "text/x-python",
      "name": "python",
      "nbconvert_exporter": "python",
      "pygments_lexer": "ipython3",
      "version": "3.10.14"
    }
  },
  "nbformat": 4,
  "nbformat_minor": 0
}