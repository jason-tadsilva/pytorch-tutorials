{
  "cells": [
    {
      "cell_type": "code",
      "execution_count": null,
      "metadata": {
        "collapsed": false
      },
      "outputs": [],
      "source": [
        "# For tips on running notebooks in Google Colab, see\n# https://pytorch.org/tutorials/beginner/colab\n%matplotlib inline"
      ]
    },
    {
      "cell_type": "markdown",
      "metadata": {},
      "source": [
        "\n# Changing default device\n\nIt is common practice to write PyTorch code in a device-agnostic way,\nand then switch between CPU and CUDA depending on what hardware is available.\nTypically, to do this you might have used if-statements and ``cuda()`` calls\nto do this:\n\n<div class=\"alert alert-info\"><h4>Note</h4><p>This recipe requires PyTorch 2.0.0 or later.</p></div>\n"
      ]
    },
    {
      "cell_type": "code",
      "execution_count": null,
      "metadata": {
        "collapsed": false
      },
      "outputs": [],
      "source": [
        "import torch\n\nUSE_CUDA = False\n\nmod = torch.nn.Linear(20, 30)\nif USE_CUDA:\n    mod.cuda()\n\ndevice = 'cpu'\nif USE_CUDA:\n    device = 'cuda'\ninp = torch.randn(128, 20, device=device)\nprint(mod(inp).device)"
      ]
    },
    {
      "cell_type": "markdown",
      "metadata": {},
      "source": [
        "PyTorch now also has a context manager which can take care of the\ndevice transfer automatically. Here is an example:\n\n"
      ]
    },
    {
      "cell_type": "code",
      "execution_count": null,
      "metadata": {
        "collapsed": false
      },
      "outputs": [],
      "source": [
        "with torch.device('cuda'):\n    mod = torch.nn.Linear(20, 30)\n    print(mod.weight.device)\n    print(mod(torch.randn(128, 20)).device)"
      ]
    },
    {
      "cell_type": "markdown",
      "metadata": {},
      "source": [
        "You can also set it globally like this: \n\n"
      ]
    },
    {
      "cell_type": "code",
      "execution_count": null,
      "metadata": {
        "collapsed": false
      },
      "outputs": [],
      "source": [
        "torch.set_default_device('cuda')\n\nmod = torch.nn.Linear(20, 30)\nprint(mod.weight.device)\nprint(mod(torch.randn(128, 20)).device)"
      ]
    },
    {
      "cell_type": "markdown",
      "metadata": {},
      "source": [
        "This function imposes a slight performance cost on every Python\ncall to the torch API (not just factory functions). If this\nis causing problems for you, please comment on\n[this issue](https://github.com/pytorch/pytorch/issues/92701)_\n\n"
      ]
    }
  ],
  "metadata": {
    "kernelspec": {
      "display_name": "Python 3",
      "language": "python",
      "name": "python3"
    },
    "language_info": {
      "codemirror_mode": {
        "name": "ipython",
        "version": 3
      },
      "file_extension": ".py",
      "mimetype": "text/x-python",
      "name": "python",
      "nbconvert_exporter": "python",
      "pygments_lexer": "ipython3",
      "version": "3.10.14"
    }
  },
  "nbformat": 4,
  "nbformat_minor": 0
}