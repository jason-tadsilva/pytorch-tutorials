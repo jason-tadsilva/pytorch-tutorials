{
  "cells": [
    {
      "cell_type": "code",
      "execution_count": null,
      "metadata": {
        "collapsed": false
      },
      "outputs": [],
      "source": [
        "# For tips on running notebooks in Google Colab, see\n# https://pytorch.org/tutorials/beginner/colab\n%matplotlib inline"
      ]
    },
    {
      "cell_type": "markdown",
      "metadata": {},
      "source": [
        "\n# Preprocess custom text dataset using Torchtext\n\n**Author**: [Anupam Sharma](https://anp-scp.github.io/)\n\nThis tutorial illustrates the usage of torchtext on a dataset that is not built-in. In the tutorial,\nwe will preprocess a dataset that can be further utilized to train a sequence-to-sequence\nmodel for machine translation (something like, in this tutorial: [Sequence to Sequence Learning\nwith Neural Networks](https://github.com/bentrevett/pytorch-seq2seq/blob/master/1%20-%20Sequence%20to%20Sequence%20Learning%20with%20Neural%20Networks.ipynb)) but without using legacy version\nof torchtext.\n\nIn this tutorial, we will learn how to:\n\n* Read a dataset\n* Tokenize sentence\n* Apply transforms to sentence\n* Perform bucket batching\n\nLet us assume that we need to prepare a dataset to train a model that can perform English to\nGerman translation. We will use a tab-delimited German - English sentence pairs provided by\nthe [Tatoeba Project](https://tatoeba.org/en) which can be downloaded from\n[this link](https://www.manythings.org/anki/deu-eng.zip)_.\n\nSentence pairs for other languages can be found in [this link](https://www.manythings.org/anki/)_.\n"
      ]
    },
    {
      "cell_type": "markdown",
      "metadata": {},
      "source": [
        "## Setup\n\nFirst, download the dataset, extract the zip, and note the path to the file `deu.txt`.\n\nEnsure that following packages are installed:\n\n* [Torchdata 0.6.0](https://pytorch.org/data/beta/index.html) ([Installation instructions \\](https://github.com/pytorch/data)_)\n* [Torchtext 0.15.0](https://pytorch.org/text/stable/index.html) ([Installation instructions \\](https://github.com/pytorch/text)_)\n* [Spacy](https://spacy.io/usage)_\n\nHere, we are using `Spacy` to tokenize text. In simple words tokenization means to\nconvert a sentence to list of words. Spacy is a python package used for various Natural\nLanguage Processing (NLP) tasks.\n\nDownload the English and German models from Spacy as shown below:\n\n```shell\npython -m spacy download en_core_web_sm\npython -m spacy download de_core_news_sm\n```\n"
      ]
    },
    {
      "cell_type": "markdown",
      "metadata": {},
      "source": [
        "Let us start by importing required modules:\n\n"
      ]
    },
    {
      "cell_type": "code",
      "execution_count": null,
      "metadata": {
        "collapsed": false
      },
      "outputs": [],
      "source": [
        "import torchdata.datapipes as dp\nimport torchtext.transforms as T\nimport spacy\nfrom torchtext.vocab import build_vocab_from_iterator\neng = spacy.load(\"en_core_web_sm\") # Load the English model to tokenize English text\nde = spacy.load(\"de_core_news_sm\") # Load the German model to tokenize German text"
      ]
    },
    {
      "cell_type": "markdown",
      "metadata": {},
      "source": [
        "Now we will load the dataset\n\n"
      ]
    },
    {
      "cell_type": "code",
      "execution_count": null,
      "metadata": {
        "collapsed": false
      },
      "outputs": [],
      "source": [
        "FILE_PATH = 'data/deu.txt'\ndata_pipe = dp.iter.IterableWrapper([FILE_PATH])\ndata_pipe = dp.iter.FileOpener(data_pipe, mode='rb')\ndata_pipe = data_pipe.parse_csv(skip_lines=0, delimiter='\\t', as_tuple=True)"
      ]
    },
    {
      "cell_type": "markdown",
      "metadata": {},
      "source": [
        "In the above code block, we are doing following things:\n\n1. At line 2, we are creating an iterable of filenames\n2. At line 3, we pass the iterable to `FileOpener` which then\n   opens the file in read mode\n3. At line 4, we call a function to parse the file, which\n   again returns an iterable of tuples representing each rows\n   of the tab-delimited file\n\nDataPipes can be thought of something like a dataset object, on which\nwe can perform various operations.\nCheck [this tutorial](https://pytorch.org/data/beta/dp_tutorial.html) for more details on\nDataPipes.\n\nWe can verify if the iterable has the pair of sentences as shown\nbelow:\n\n"
      ]
    },
    {
      "cell_type": "code",
      "execution_count": null,
      "metadata": {
        "collapsed": false
      },
      "outputs": [],
      "source": [
        "for sample in data_pipe:\n    print(sample)\n    break"
      ]
    },
    {
      "cell_type": "markdown",
      "metadata": {},
      "source": [
        "Note that we also have attribution details along with pair of sentences. We will\nwrite a small function to remove the attribution details:\n\n"
      ]
    },
    {
      "cell_type": "code",
      "execution_count": null,
      "metadata": {
        "collapsed": false
      },
      "outputs": [],
      "source": [
        "def removeAttribution(row):\n    \"\"\"\n    Function to keep the first two elements in a tuple\n    \"\"\"\n    return row[:2]\ndata_pipe = data_pipe.map(removeAttribution)"
      ]
    },
    {
      "cell_type": "markdown",
      "metadata": {},
      "source": [
        "The `map` function at line 6 in above code block can be used to apply some function\non each elements of `data_pipe`. Now, we can verify that the `data_pipe` only contains\npair of sentences.\n\n"
      ]
    },
    {
      "cell_type": "code",
      "execution_count": null,
      "metadata": {
        "collapsed": false
      },
      "outputs": [],
      "source": [
        "for sample in data_pipe:\n    print(sample)\n    break"
      ]
    },
    {
      "cell_type": "markdown",
      "metadata": {},
      "source": [
        "Now, let us define few functions to perform tokenization:\n\n"
      ]
    },
    {
      "cell_type": "code",
      "execution_count": null,
      "metadata": {
        "collapsed": false
      },
      "outputs": [],
      "source": [
        "def engTokenize(text):\n    \"\"\"\n    Tokenize an English text and return a list of tokens\n    \"\"\"\n    return [token.text for token in eng.tokenizer(text)]\n\ndef deTokenize(text):\n    \"\"\"\n    Tokenize a German text and return a list of tokens\n    \"\"\"\n    return [token.text for token in de.tokenizer(text)]"
      ]
    },
    {
      "cell_type": "markdown",
      "metadata": {},
      "source": [
        "Above function accepts a text and returns a list of words\nas shown below:\n\n"
      ]
    },
    {
      "cell_type": "code",
      "execution_count": null,
      "metadata": {
        "collapsed": false
      },
      "outputs": [],
      "source": [
        "print(engTokenize(\"Have a good day!!!\"))\nprint(deTokenize(\"Haben Sie einen guten Tag!!!\"))"
      ]
    },
    {
      "cell_type": "markdown",
      "metadata": {},
      "source": [
        "## Building the vocabulary\nLet us consider an English sentence as the source and a German sentence as the target.\n\nVocabulary can be considered as the set of unique words we have in the dataset.\nWe will build vocabulary for both our source and target now.\n\nLet us define a function to get tokens from elements of tuples in the iterator.\n\n"
      ]
    },
    {
      "cell_type": "code",
      "execution_count": null,
      "metadata": {
        "collapsed": false
      },
      "outputs": [],
      "source": [
        "def getTokens(data_iter, place):\n    \"\"\"\n    Function to yield tokens from an iterator. Since, our iterator contains\n    tuple of sentences (source and target), `place` parameters defines for which\n    index to return the tokens for. `place=0` for source and `place=1` for target\n    \"\"\"\n    for english, german in data_iter:\n        if place == 0:\n            yield engTokenize(english)\n        else:\n            yield deTokenize(german)"
      ]
    },
    {
      "cell_type": "markdown",
      "metadata": {},
      "source": [
        "Now, we will build vocabulary for source:\n\n"
      ]
    },
    {
      "cell_type": "code",
      "execution_count": null,
      "metadata": {
        "collapsed": false
      },
      "outputs": [],
      "source": [
        "source_vocab = build_vocab_from_iterator(\n    getTokens(data_pipe,0),\n    min_freq=2,\n    specials= ['<pad>', '<sos>', '<eos>', '<unk>'],\n    special_first=True\n)\nsource_vocab.set_default_index(source_vocab['<unk>'])"
      ]
    },
    {
      "cell_type": "markdown",
      "metadata": {},
      "source": [
        "The code above, builds the vocabulary from the iterator. In the above code block:\n\n* At line 2, we call the `getTokens()` function with `place=0` as we need vocabulary for\n  source sentences.\n* At line 3, we set `min_freq=2`. This means, the function will skip those words that occurs\n  less than 2 times.\n* At line 4, we specify some special tokens:\n\n  * `<sos>` for start of sentence\n  * `<eos>` for end of sentence\n  * `<unk>` for unknown words. An example of unknown word is the one skipped because of\n    `min_freq=2`.\n  * `<pad>` is the padding token. While training, a model we mostly train in batches. In a\n    batch, there can be sentences of different length. So, we pad the shorter sentences with\n    `<pad>` token to make length of all sequences in the batch equal.\n\n* At line 5, we set `special_first=True`. Which means `<pad>` will get index 0, `<sos>` index 1,\n  `<eos>` index 2, and <unk> will get index 3 in the vocabulary.\n* At line 7, we set default index as index of `<unk>`. That means if some word is not in\n  vocabulary, we will use `<unk>` instead of that unknown word.\n\nSimilarly, we will build vocabulary for target sentences:\n\n"
      ]
    },
    {
      "cell_type": "code",
      "execution_count": null,
      "metadata": {
        "collapsed": false
      },
      "outputs": [],
      "source": [
        "target_vocab = build_vocab_from_iterator(\n    getTokens(data_pipe,1),\n    min_freq=2,\n    specials= ['<pad>', '<sos>', '<eos>', '<unk>'],\n    special_first=True\n)\ntarget_vocab.set_default_index(target_vocab['<unk>'])"
      ]
    },
    {
      "cell_type": "markdown",
      "metadata": {},
      "source": [
        "Note that the example above shows how can we add special tokens to our vocabulary. The\nspecial tokens may change based on the requirements.\n\nNow, we can verify that special tokens are placed at the beginning and then other words.\nIn the below code, `source_vocab.get_itos()` returns a list with tokens at index based on\nvocabulary.\n\n"
      ]
    },
    {
      "cell_type": "code",
      "execution_count": null,
      "metadata": {
        "collapsed": false
      },
      "outputs": [],
      "source": [
        "print(source_vocab.get_itos()[:9])"
      ]
    },
    {
      "cell_type": "markdown",
      "metadata": {},
      "source": [
        "## Numericalize sentences using vocabulary\nAfter building the vocabulary, we need to convert our sentences to corresponding indices.\nLet us define some functions for this:\n\n"
      ]
    },
    {
      "cell_type": "code",
      "execution_count": null,
      "metadata": {
        "collapsed": false
      },
      "outputs": [],
      "source": [
        "def getTransform(vocab):\n    \"\"\"\n    Create transforms based on given vocabulary. The returned transform is applied to sequence\n    of tokens.\n    \"\"\"\n    text_tranform = T.Sequential(\n        ## converts the sentences to indices based on given vocabulary\n        T.VocabTransform(vocab=vocab),\n        ## Add <sos> at beginning of each sentence. 1 because the index for <sos> in vocabulary is\n        # 1 as seen in previous section\n        T.AddToken(1, begin=True),\n        ## Add <eos> at beginning of each sentence. 2 because the index for <eos> in vocabulary is\n        # 2 as seen in previous section\n        T.AddToken(2, begin=False)\n    )\n    return text_tranform"
      ]
    },
    {
      "cell_type": "markdown",
      "metadata": {},
      "source": [
        "Now, let us see how to use the above function. The function returns an object of `Transforms`\nwhich we will use on our sentence. Let us take a random sentence and check how the transform\nworks.\n\n"
      ]
    },
    {
      "cell_type": "code",
      "execution_count": null,
      "metadata": {
        "collapsed": false
      },
      "outputs": [],
      "source": [
        "temp_list = list(data_pipe)\nsome_sentence = temp_list[798][0]\nprint(\"Some sentence=\", end=\"\")\nprint(some_sentence)\ntransformed_sentence = getTransform(source_vocab)(engTokenize(some_sentence))\nprint(\"Transformed sentence=\", end=\"\")\nprint(transformed_sentence)\nindex_to_string = source_vocab.get_itos()\nfor index in transformed_sentence:\n    print(index_to_string[index], end=\" \")"
      ]
    },
    {
      "cell_type": "markdown",
      "metadata": {},
      "source": [
        "In the above code,:\n\n* At line 2, we take a source sentence from list that we created from `data_pipe` at line 1\n* At line 5, we get a transform based on a source vocabulary and apply it to a tokenized\n  sentence. Note that transforms take list of words and not a sentence.\n* At line 8, we get the mapping of index to string and then use it get the transformed\n  sentence\n\nNow we will use DataPipe functions to apply transform to all our sentences.\nLet us define some more functions for this.\n\n"
      ]
    },
    {
      "cell_type": "code",
      "execution_count": null,
      "metadata": {
        "collapsed": false
      },
      "outputs": [],
      "source": [
        "def applyTransform(sequence_pair):\n    \"\"\"\n    Apply transforms to sequence of tokens in a sequence pair\n    \"\"\"\n\n    return (\n        getTransform(source_vocab)(engTokenize(sequence_pair[0])),\n        getTransform(target_vocab)(deTokenize(sequence_pair[1]))\n    )\ndata_pipe = data_pipe.map(applyTransform) ## Apply the function to each element in the iterator\ntemp_list = list(data_pipe)\nprint(temp_list[0])"
      ]
    },
    {
      "cell_type": "markdown",
      "metadata": {},
      "source": [
        "## Make batches (with bucket batch)\nGenerally, we train models in batches. While working for sequence to sequence models, it is\nrecommended to keep the length of sequences in a batch similar. For that we will use\n`bucketbatch` function of `data_pipe`.\n\nLet us define some functions that will be used by the `bucketbatch` function.\n\n"
      ]
    },
    {
      "cell_type": "code",
      "execution_count": null,
      "metadata": {
        "collapsed": false
      },
      "outputs": [],
      "source": [
        "def sortBucket(bucket):\n    \"\"\"\n    Function to sort a given bucket. Here, we want to sort based on the length of\n    source and target sequence.\n    \"\"\"\n    return sorted(bucket, key=lambda x: (len(x[0]), len(x[1])))"
      ]
    },
    {
      "cell_type": "markdown",
      "metadata": {},
      "source": [
        "Now, we will apply the `bucketbatch` function:\n\n"
      ]
    },
    {
      "cell_type": "code",
      "execution_count": null,
      "metadata": {
        "collapsed": false
      },
      "outputs": [],
      "source": [
        "data_pipe = data_pipe.bucketbatch(\n    batch_size = 4, batch_num=5,  bucket_num=1,\n    use_in_batch_shuffle=False, sort_key=sortBucket\n)"
      ]
    },
    {
      "cell_type": "markdown",
      "metadata": {},
      "source": [
        "In the above code block:\n\n  * We keep batch size = 4.\n  * `batch_num` is the number of batches to keep in a bucket\n  * `bucket_num` is the number of buckets to keep in a pool for shuffling\n  * `sort_key` specifies the function that takes a bucket and sorts it\n\nNow, let us consider a batch of source sentences as `X` and a batch of target sentences as `y`.\nGenerally, while training a model, we predict on a batch of `X` and compare the result with `y`.\nBut, a batch in our `data_pipe` is of the form `[(X_1,y_1), (X_2,y_2), (X_3,y_3), (X_4,y_4)]`:\n\n"
      ]
    },
    {
      "cell_type": "code",
      "execution_count": null,
      "metadata": {
        "collapsed": false
      },
      "outputs": [],
      "source": [
        "print(list(data_pipe)[0])"
      ]
    },
    {
      "cell_type": "markdown",
      "metadata": {},
      "source": [
        "So, we will now convert them into the form: `((X_1,X_2,X_3,X_4), (y_1,y_2,y_3,y_4))`.\nFor this we will write a small function:\n\n"
      ]
    },
    {
      "cell_type": "code",
      "execution_count": null,
      "metadata": {
        "collapsed": false
      },
      "outputs": [],
      "source": [
        "def separateSourceTarget(sequence_pairs):\n    \"\"\"\n    input of form: `[(X_1,y_1), (X_2,y_2), (X_3,y_3), (X_4,y_4)]`\n    output of form: `((X_1,X_2,X_3,X_4), (y_1,y_2,y_3,y_4))`\n    \"\"\"\n    sources,targets = zip(*sequence_pairs)\n    return sources,targets\n\n## Apply the function to each element in the iterator\ndata_pipe = data_pipe.map(separateSourceTarget)\nprint(list(data_pipe)[0])"
      ]
    },
    {
      "cell_type": "markdown",
      "metadata": {},
      "source": [
        "Now, we have the data as desired.\n\n## Padding\nAs discussed earlier while building vocabulary, we need to pad shorter sentences in a batch to\nmake all the sequences in a batch of equal length. We can perform padding as follows:\n\n"
      ]
    },
    {
      "cell_type": "code",
      "execution_count": null,
      "metadata": {
        "collapsed": false
      },
      "outputs": [],
      "source": [
        "def applyPadding(pair_of_sequences):\n    \"\"\"\n    Convert sequences to tensors and apply padding\n    \"\"\"\n    return (T.ToTensor(0)(list(pair_of_sequences[0])), T.ToTensor(0)(list(pair_of_sequences[1])))\n## `T.ToTensor(0)` returns a transform that converts the sequence to `torch.tensor` and also applies\n# padding. Here, `0` is passed to the constructor to specify the index of the `<pad>` token in the\n# vocabulary.\ndata_pipe = data_pipe.map(applyPadding)"
      ]
    },
    {
      "cell_type": "markdown",
      "metadata": {},
      "source": [
        "Now, we can use the index to string mapping to see how the sequence would look with tokens\ninstead of indices:\n\n"
      ]
    },
    {
      "cell_type": "code",
      "execution_count": null,
      "metadata": {
        "collapsed": false
      },
      "outputs": [],
      "source": [
        "source_index_to_string = source_vocab.get_itos()\ntarget_index_to_string = target_vocab.get_itos()\n\ndef showSomeTransformedSentences(data_pipe):\n    \"\"\"\n    Function to show how the sentences look like after applying all transforms.\n    Here we try to print actual words instead of corresponding index\n    \"\"\"\n    for sources,targets in data_pipe:\n        if sources[0][-1] != 0:\n            continue # Just to visualize padding of shorter sentences\n        for i in range(4):\n            source = \"\"\n            for token in sources[i]:\n                source += \" \" + source_index_to_string[token]\n            target = \"\"\n            for token in targets[i]:\n                target += \" \" + target_index_to_string[token]\n            print(f\"Source: {source}\")\n            print(f\"Traget: {target}\")\n        break\n\nshowSomeTransformedSentences(data_pipe)"
      ]
    },
    {
      "cell_type": "markdown",
      "metadata": {},
      "source": [
        "In the above output we can observe that the shorter sentences are padded with `<pad>`. Now, we\ncan use `data_pipe` while writing our training function.\n\nSome parts of this tutorial was inspired from [this article](https://medium.com/@bitdribble/migrate-torchtext-to-the-new-0-9-0-api-1ff1472b5d71)_.\n\n"
      ]
    }
  ],
  "metadata": {
    "kernelspec": {
      "display_name": "Python 3",
      "language": "python",
      "name": "python3"
    },
    "language_info": {
      "codemirror_mode": {
        "name": "ipython",
        "version": 3
      },
      "file_extension": ".py",
      "mimetype": "text/x-python",
      "name": "python",
      "nbconvert_exporter": "python",
      "pygments_lexer": "ipython3",
      "version": "3.10.14"
    }
  },
  "nbformat": 4,
  "nbformat_minor": 0
}